{
  "nbformat": 4,
  "nbformat_minor": 0,
  "metadata": {
    "colab": {
      "name": "One_hot_Encoding using Python, Scikit-learn and Keras.ipynb",
      "provenance": [],
      "collapsed_sections": [],
      "authorship_tag": "ABX9TyMPpWy1+4rg8zxp/zlHfGSo",
      "include_colab_link": true
    },
    "kernelspec": {
      "name": "python3",
      "display_name": "Python 3"
    },
    "language_info": {
      "name": "python"
    }
  },
  "cells": [
    {
      "cell_type": "markdown",
      "metadata": {
        "id": "view-in-github",
        "colab_type": "text"
      },
      "source": [
        "<a href=\"https://colab.research.google.com/github/Dhiru-py/NLP/blob/master/One_hot_Encoding_using_Python%2C_Scikit_learn_and_Keras.ipynb\" target=\"_parent\"><img src=\"https://colab.research.google.com/assets/colab-badge.svg\" alt=\"Open In Colab\"/></a>"
      ]
    },
    {
      "cell_type": "code",
      "metadata": {
        "id": "VBH3Sncm7F9M"
      },
      "source": [
        "#======================== Onehot_encoding with Python ====================================#"
      ],
      "execution_count": 1,
      "outputs": []
    },
    {
      "cell_type": "code",
      "metadata": {
        "colab": {
          "base_uri": "https://localhost:8080/"
        },
        "id": "CjcWoQjdhSQT",
        "outputId": "7aabb38f-4d2b-4093-e501-2addf660679e"
      },
      "source": [
        "# Onehot-Embedding for Characters \n",
        "\n",
        "# define input string\n",
        "data = 'hello world'\n",
        "print(data)\n",
        "\n",
        "# define universe of possible input values\n",
        "alphabet = 'abcdefghijklmnopqrstuvwxyz'"
      ],
      "execution_count": 42,
      "outputs": [
        {
          "output_type": "stream",
          "text": [
            "hello world\n"
          ],
          "name": "stdout"
        }
      ]
    },
    {
      "cell_type": "code",
      "metadata": {
        "colab": {
          "base_uri": "https://localhost:8080/"
        },
        "id": "z-zNGutZhrzp",
        "outputId": "0930c7dc-8959-49c6-d964-d5f97c8420b8"
      },
      "source": [
        "# define a mapping of chars to integers\n",
        "char_to_int = dict((c, i) for i, c in enumerate(alphabet))\n",
        "print (char_to_int)\n",
        "int_to_char = dict((i, c) for i, c in enumerate(alphabet))\n"
      ],
      "execution_count": 43,
      "outputs": [
        {
          "output_type": "stream",
          "text": [
            "{'a': 0, 'b': 1, 'c': 2, 'd': 3, 'e': 4, 'f': 5, 'g': 6, 'h': 7, 'i': 8, 'j': 9, 'k': 10, 'l': 11, 'm': 12, 'n': 13, 'o': 14, 'p': 15, 'q': 16, 'r': 17, 's': 18, 't': 19, 'u': 20, 'v': 21, 'w': 22, 'x': 23, 'y': 24, 'z': 25}\n"
          ],
          "name": "stdout"
        }
      ]
    },
    {
      "cell_type": "code",
      "metadata": {
        "colab": {
          "base_uri": "https://localhost:8080/"
        },
        "id": "q8NLW7V2hr1d",
        "outputId": "f3d2eadb-76fa-4a23-9601-ee6f91474183"
      },
      "source": [
        "# integer encode input data\n",
        "integer_encoded = [char_to_int[char] for char in data if char in char_to_int]\n",
        "print(integer_encoded)\n"
      ],
      "execution_count": 36,
      "outputs": [
        {
          "output_type": "stream",
          "text": [
            "[7, 4, 11, 11, 14, 22, 14, 17, 11, 3]\n"
          ],
          "name": "stdout"
        }
      ]
    },
    {
      "cell_type": "code",
      "metadata": {
        "colab": {
          "base_uri": "https://localhost:8080/"
        },
        "id": "uu-BaB1Yhr46",
        "outputId": "962da883-c924-42d0-ad0e-e2583313a827"
      },
      "source": [
        "# one hot encode\n",
        "onehot_encoded = list()\n",
        "\n",
        "for value in integer_encoded:\n",
        "\tletter = [0 for _ in range(len(alphabet))]\n",
        "\tletter[value] = 1\n",
        "\tonehot_encoded.append(letter)\n",
        "print (onehot_encoded)\n"
      ],
      "execution_count": 44,
      "outputs": [
        {
          "output_type": "stream",
          "text": [
            "[[0, 0, 0, 0, 0, 0, 0, 1, 0, 0, 0, 0, 0, 0, 0, 0, 0, 0, 0, 0, 0, 0, 0, 0, 0, 0], [0, 0, 0, 0, 1, 0, 0, 0, 0, 0, 0, 0, 0, 0, 0, 0, 0, 0, 0, 0, 0, 0, 0, 0, 0, 0], [0, 0, 0, 0, 0, 0, 0, 0, 0, 0, 0, 1, 0, 0, 0, 0, 0, 0, 0, 0, 0, 0, 0, 0, 0, 0], [0, 0, 0, 0, 0, 0, 0, 0, 0, 0, 0, 1, 0, 0, 0, 0, 0, 0, 0, 0, 0, 0, 0, 0, 0, 0], [0, 0, 0, 0, 0, 0, 0, 0, 0, 0, 0, 0, 0, 0, 1, 0, 0, 0, 0, 0, 0, 0, 0, 0, 0, 0], [0, 0, 0, 0, 0, 0, 0, 0, 0, 0, 0, 0, 0, 0, 0, 0, 0, 0, 0, 0, 0, 0, 1, 0, 0, 0], [0, 0, 0, 0, 0, 0, 0, 0, 0, 0, 0, 0, 0, 0, 1, 0, 0, 0, 0, 0, 0, 0, 0, 0, 0, 0], [0, 0, 0, 0, 0, 0, 0, 0, 0, 0, 0, 0, 0, 0, 0, 0, 0, 1, 0, 0, 0, 0, 0, 0, 0, 0], [0, 0, 0, 0, 0, 0, 0, 0, 0, 0, 0, 1, 0, 0, 0, 0, 0, 0, 0, 0, 0, 0, 0, 0, 0, 0], [0, 0, 0, 1, 0, 0, 0, 0, 0, 0, 0, 0, 0, 0, 0, 0, 0, 0, 0, 0, 0, 0, 0, 0, 0, 0]]\n"
          ],
          "name": "stdout"
        }
      ]
    },
    {
      "cell_type": "code",
      "metadata": {
        "colab": {
          "base_uri": "https://localhost:8080/"
        },
        "id": "4XmuSg7Mhr7J",
        "outputId": "8a542176-fb14-480b-ce4f-ffba6b94ad75"
      },
      "source": [
        "# invert encoding\n",
        "import numpy as np\n",
        "from numpy import argmax\n",
        "inverted = int_to_char[argmax(onehot_encoded[0])]\n",
        "print(inverted)"
      ],
      "execution_count": 45,
      "outputs": [
        {
          "output_type": "stream",
          "text": [
            "h\n"
          ],
          "name": "stdout"
        }
      ]
    },
    {
      "cell_type": "code",
      "metadata": {
        "id": "iKs3MO_Rhr9l"
      },
      "source": [
        "# Onehot_encoding for words\n",
        "# define input string\n",
        "data = 'dhirendra is a good boy and good in sports too'\n",
        "\n",
        "# define universe of possible input values\n",
        "dataset = 'dhirendra is a good NLP scholar and in study too'"
      ],
      "execution_count": 77,
      "outputs": []
    },
    {
      "cell_type": "code",
      "metadata": {
        "colab": {
          "base_uri": "https://localhost:8080/"
        },
        "id": "MTP5nsodhsAZ",
        "outputId": "cf61e53b-6068-4248-df78-fd45606aba67"
      },
      "source": [
        "# define a mapping of words to integers\n",
        "\n",
        "words_to_integer = dict( (word_int, word) for word, word_int in enumerate(dataset.split (\" \")))\n",
        "words_to_integer"
      ],
      "execution_count": 78,
      "outputs": [
        {
          "output_type": "execute_result",
          "data": {
            "text/plain": [
              "{'NLP': 4,\n",
              " 'a': 2,\n",
              " 'and': 6,\n",
              " 'dhirendra': 0,\n",
              " 'good': 3,\n",
              " 'in': 7,\n",
              " 'is': 1,\n",
              " 'scholar': 5,\n",
              " 'study': 8,\n",
              " 'too': 9}"
            ]
          },
          "metadata": {
            "tags": []
          },
          "execution_count": 78
        }
      ]
    },
    {
      "cell_type": "code",
      "metadata": {
        "colab": {
          "base_uri": "https://localhost:8080/"
        },
        "id": "xCw7BvKChsDx",
        "outputId": "479deb36-9bad-4d62-e118-0ee2f3932e2a"
      },
      "source": [
        "data_encode = [ words_to_integer[word] for word in data.split(\" \") if word in  words_to_integer]\n",
        "data_encode"
      ],
      "execution_count": 79,
      "outputs": [
        {
          "output_type": "execute_result",
          "data": {
            "text/plain": [
              "[0, 1, 2, 3, 6, 3, 7, 9]"
            ]
          },
          "metadata": {
            "tags": []
          },
          "execution_count": 79
        }
      ]
    },
    {
      "cell_type": "code",
      "metadata": {
        "colab": {
          "base_uri": "https://localhost:8080/"
        },
        "id": "5awQ3cxdlXQX",
        "outputId": "938750d1-3b17-47f3-c4d9-afd5f73a8060"
      },
      "source": [
        "# let's create One-hot encoding...\n",
        "Onehot_encoder = list()\n",
        "\n",
        "for value in data_encode:\n",
        "  dimentions = [0 for word in words_to_integer]\n",
        "  dimentions[value] =1\n",
        "  Onehot_encoder.append(dimentions)\n",
        "Onehot_encoder"
      ],
      "execution_count": 84,
      "outputs": [
        {
          "output_type": "execute_result",
          "data": {
            "text/plain": [
              "[[1, 0, 0, 0, 0, 0, 0, 0, 0, 0],\n",
              " [0, 1, 0, 0, 0, 0, 0, 0, 0, 0],\n",
              " [0, 0, 1, 0, 0, 0, 0, 0, 0, 0],\n",
              " [0, 0, 0, 1, 0, 0, 0, 0, 0, 0],\n",
              " [0, 0, 0, 0, 0, 0, 1, 0, 0, 0],\n",
              " [0, 0, 0, 1, 0, 0, 0, 0, 0, 0],\n",
              " [0, 0, 0, 0, 0, 0, 0, 1, 0, 0],\n",
              " [0, 0, 0, 0, 0, 0, 0, 0, 0, 1]]"
            ]
          },
          "metadata": {
            "tags": []
          },
          "execution_count": 84
        }
      ]
    },
    {
      "cell_type": "code",
      "metadata": {
        "id": "B5wHPSeYlXV8"
      },
      "source": [
        ""
      ],
      "execution_count": 84,
      "outputs": []
    },
    {
      "cell_type": "code",
      "metadata": {
        "id": "q_Dlf1xNhSTl"
      },
      "source": [
        "#======================== Onehot_encoding with Scikit-learn ====================================#"
      ],
      "execution_count": 85,
      "outputs": []
    },
    {
      "cell_type": "code",
      "metadata": {
        "id": "AAhUoAoWhqTK"
      },
      "source": [
        "from numpy import array\n",
        "from numpy import argmax\n",
        "from sklearn.preprocessing import LabelEncoder\n",
        "from sklearn.preprocessing import OneHotEncoder\n"
      ],
      "execution_count": 86,
      "outputs": []
    },
    {
      "cell_type": "code",
      "metadata": {
        "colab": {
          "base_uri": "https://localhost:8080/"
        },
        "id": "CT_zY2J8hqVp",
        "outputId": "9f12bd94-7e24-46cc-d199-c3c08e5f5d31"
      },
      "source": [
        "# define example\n",
        "#data = ['dhirendra', 'is', 'a', 'good', 'NLP', 'scholar' ,'and', 'good', 'in', 'sports', 'too']\n",
        "data = ['dhirendra', 'is', 'a', 'good', 'boy', 'and', 'good' ,'in', 'sports', 'too']\n",
        "print (data)"
      ],
      "execution_count": 87,
      "outputs": [
        {
          "output_type": "stream",
          "text": [
            "['dhirendra', 'is', 'a', 'good', 'boy', 'and', 'good', 'in', 'sports', 'too']\n"
          ],
          "name": "stdout"
        }
      ]
    },
    {
      "cell_type": "code",
      "metadata": {
        "colab": {
          "base_uri": "https://localhost:8080/"
        },
        "id": "7C5B8FPHhqYH",
        "outputId": "260331db-5681-405e-8c29-9401f546b10d"
      },
      "source": [
        "# integer encode\n",
        "from sklearn.preprocessing import LabelEncoder\n",
        "\n",
        "label_encoder = LabelEncoder()\n",
        "\n",
        "#integer_encoded = label_encoder.fit_transform(values)\n",
        "integer_encoded = label_encoder.fit_transform(data)\n",
        "print(integer_encoded)\n"
      ],
      "execution_count": 88,
      "outputs": [
        {
          "output_type": "stream",
          "text": [
            "[3 6 0 4 2 1 4 5 7 8]\n"
          ],
          "name": "stdout"
        }
      ]
    },
    {
      "cell_type": "code",
      "metadata": {
        "colab": {
          "base_uri": "https://localhost:8080/"
        },
        "id": "SklECiUohqav",
        "outputId": "a8b20fa2-8a6a-4a43-bb5c-9f73823ebbe1"
      },
      "source": [
        "# binary encode\n",
        "from sklearn.preprocessing import OneHotEncoder\n",
        "\n",
        "onehot_encoder = OneHotEncoder(sparse=False)\n",
        "\n",
        "integer_encoded = integer_encoded.reshape(len(integer_encoded), 1)\n",
        "\n",
        "onehot_encoded = onehot_encoder.fit_transform(integer_encoded)\n",
        "print(onehot_encoded)\n"
      ],
      "execution_count": 89,
      "outputs": [
        {
          "output_type": "stream",
          "text": [
            "[[0. 0. 0. 1. 0. 0. 0. 0. 0.]\n",
            " [0. 0. 0. 0. 0. 0. 1. 0. 0.]\n",
            " [1. 0. 0. 0. 0. 0. 0. 0. 0.]\n",
            " [0. 0. 0. 0. 1. 0. 0. 0. 0.]\n",
            " [0. 0. 1. 0. 0. 0. 0. 0. 0.]\n",
            " [0. 1. 0. 0. 0. 0. 0. 0. 0.]\n",
            " [0. 0. 0. 0. 1. 0. 0. 0. 0.]\n",
            " [0. 0. 0. 0. 0. 1. 0. 0. 0.]\n",
            " [0. 0. 0. 0. 0. 0. 0. 1. 0.]\n",
            " [0. 0. 0. 0. 0. 0. 0. 0. 1.]]\n"
          ],
          "name": "stdout"
        }
      ]
    },
    {
      "cell_type": "code",
      "metadata": {
        "colab": {
          "base_uri": "https://localhost:8080/"
        },
        "id": "3OFs8_ighqeo",
        "outputId": "a34d491e-7861-4079-d91a-9b92f8d6cd2e"
      },
      "source": [
        "# invert first example\n",
        "inverted = label_encoder.inverse_transform([argmax(onehot_encoded[3, :])])\n",
        "print(inverted)"
      ],
      "execution_count": 90,
      "outputs": [
        {
          "output_type": "stream",
          "text": [
            "['good']\n"
          ],
          "name": "stdout"
        }
      ]
    },
    {
      "cell_type": "code",
      "metadata": {
        "id": "LkquXMl3hSWX"
      },
      "source": [
        ""
      ],
      "execution_count": 90,
      "outputs": []
    },
    {
      "cell_type": "code",
      "metadata": {
        "id": "cd0K4c_8hVtb"
      },
      "source": [
        "#======================== Onehot_encoding with Keras ====================================#"
      ],
      "execution_count": 91,
      "outputs": []
    },
    {
      "cell_type": "code",
      "metadata": {
        "id": "TtepjOuchVwq"
      },
      "source": [
        "from keras.utils.np_utils import to_categorical\n",
        "from numpy import array"
      ],
      "execution_count": 92,
      "outputs": []
    },
    {
      "cell_type": "code",
      "metadata": {
        "id": "X1CTUsC5t1rc"
      },
      "source": [
        "# define example\n",
        "data = ['dhirendra', 'is', 'a', 'good', 'NLP', 'scholar' ,'and', 'good', 'in', 'sports', 'too']\n"
      ],
      "execution_count": 93,
      "outputs": []
    },
    {
      "cell_type": "code",
      "metadata": {
        "colab": {
          "base_uri": "https://localhost:8080/"
        },
        "id": "zUH2tYF1KQs8",
        "outputId": "9b0bcd25-0cee-4c2f-fa3b-909e888c2b96"
      },
      "source": [
        "data_to_int = dict( (word_int, word) for word, word_int in enumerate (data))\n",
        "\n",
        "data_encode = [data_to_int[word] for word in data if word in data_to_int]\n",
        "data_encode"
      ],
      "execution_count": 94,
      "outputs": [
        {
          "output_type": "execute_result",
          "data": {
            "text/plain": [
              "[0, 1, 2, 7, 4, 5, 6, 7, 8, 9, 10]"
            ]
          },
          "metadata": {
            "tags": []
          },
          "execution_count": 94
        }
      ]
    },
    {
      "cell_type": "code",
      "metadata": {
        "colab": {
          "base_uri": "https://localhost:8080/"
        },
        "id": "jHx1vGEut1ub",
        "outputId": "d5e98b71-59d9-429a-f213-b67a99a6de02"
      },
      "source": [
        "# one hot encode\n",
        "encoded = to_categorical(data_encode)\n",
        "print(encoded)"
      ],
      "execution_count": 95,
      "outputs": [
        {
          "output_type": "stream",
          "text": [
            "[[1. 0. 0. 0. 0. 0. 0. 0. 0. 0. 0.]\n",
            " [0. 1. 0. 0. 0. 0. 0. 0. 0. 0. 0.]\n",
            " [0. 0. 1. 0. 0. 0. 0. 0. 0. 0. 0.]\n",
            " [0. 0. 0. 0. 0. 0. 0. 1. 0. 0. 0.]\n",
            " [0. 0. 0. 0. 1. 0. 0. 0. 0. 0. 0.]\n",
            " [0. 0. 0. 0. 0. 1. 0. 0. 0. 0. 0.]\n",
            " [0. 0. 0. 0. 0. 0. 1. 0. 0. 0. 0.]\n",
            " [0. 0. 0. 0. 0. 0. 0. 1. 0. 0. 0.]\n",
            " [0. 0. 0. 0. 0. 0. 0. 0. 1. 0. 0.]\n",
            " [0. 0. 0. 0. 0. 0. 0. 0. 0. 1. 0.]\n",
            " [0. 0. 0. 0. 0. 0. 0. 0. 0. 0. 1.]]\n"
          ],
          "name": "stdout"
        }
      ]
    },
    {
      "cell_type": "code",
      "metadata": {
        "colab": {
          "base_uri": "https://localhost:8080/"
        },
        "id": "b6DR4FWct1z0",
        "outputId": "00d7b464-6bd0-4c4c-f386-df6762bd6cd5"
      },
      "source": [
        "# invert encoding\n",
        "inverted = argmax(encoded[3])\n",
        "print(inverted)"
      ],
      "execution_count": 96,
      "outputs": [
        {
          "output_type": "stream",
          "text": [
            "7\n"
          ],
          "name": "stdout"
        }
      ]
    },
    {
      "cell_type": "code",
      "metadata": {
        "id": "4Afs34CKxpFF"
      },
      "source": [
        ""
      ],
      "execution_count": 21,
      "outputs": []
    }
  ]
}