{
  "nbformat": 4,
  "nbformat_minor": 0,
  "metadata": {
    "colab": {
      "name": "POS_TAGGER using HMM model.ipynb",
      "provenance": [],
      "collapsed_sections": [],
      "authorship_tag": "ABX9TyNBq2cXzbu9fO832z3KeEaR",
      "include_colab_link": true
    },
    "kernelspec": {
      "name": "python3",
      "display_name": "Python 3"
    }
  },
  "cells": [
    {
      "cell_type": "markdown",
      "metadata": {
        "id": "view-in-github",
        "colab_type": "text"
      },
      "source": [
        "<a href=\"https://colab.research.google.com/github/Dhiru-py/NLP/blob/master/POS_TAGGER_using_HMM_model.ipynb\" target=\"_parent\"><img src=\"https://colab.research.google.com/assets/colab-badge.svg\" alt=\"Open In Colab\"/></a>"
      ]
    },
    {
      "cell_type": "code",
      "metadata": {
        "id": "qyqiS02NSzOx"
      },
      "source": [
        "#======================== POS Tagger using HMM Model ======================#"
      ],
      "execution_count": 46,
      "outputs": []
    },
    {
      "cell_type": "code",
      "metadata": {
        "colab": {
          "base_uri": "https://localhost:8080/"
        },
        "id": "BTBPbYyD4WLf",
        "outputId": "a58b13a9-b571-4d72-9233-b4a6159b9f5b"
      },
      "source": [
        "# Importing libraries\n",
        "import nltk\n",
        "import numpy as np\n",
        "import pandas as pd\n",
        "import random\n",
        "from sklearn.model_selection import train_test_split\n",
        "import pprint, time\n",
        " "
      ],
      "execution_count": 2,
      "outputs": [
        {
          "output_type": "stream",
          "text": [
            "[nltk_data] Downloading package treebank to /root/nltk_data...\n",
            "[nltk_data]   Unzipping corpora/treebank.zip.\n",
            "[nltk_data] Downloading package universal_tagset to /root/nltk_data...\n",
            "[nltk_data]   Unzipping taggers/universal_tagset.zip.\n",
            "[[('Pierre', 'NOUN'), ('Vinken', 'NOUN'), (',', '.'), ('61', 'NUM'), ('years', 'NOUN'), ('old', 'ADJ'), (',', '.'), ('will', 'VERB'), ('join', 'VERB'), ('the', 'DET'), ('board', 'NOUN'), ('as', 'ADP'), ('a', 'DET'), ('nonexecutive', 'ADJ'), ('director', 'NOUN'), ('Nov.', 'NOUN'), ('29', 'NUM'), ('.', '.')], [('Mr.', 'NOUN'), ('Vinken', 'NOUN'), ('is', 'VERB'), ('chairman', 'NOUN'), ('of', 'ADP'), ('Elsevier', 'NOUN'), ('N.V.', 'NOUN'), (',', '.'), ('the', 'DET'), ('Dutch', 'NOUN'), ('publishing', 'VERB'), ('group', 'NOUN'), ('.', '.')]]\n"
          ],
          "name": "stdout"
        }
      ]
    },
    {
      "cell_type": "code",
      "metadata": {
        "colab": {
          "base_uri": "https://localhost:8080/"
        },
        "id": "fyNZjpiwoG_j",
        "outputId": "1b891e70-4d6a-468e-8221-3048cf480e21"
      },
      "source": [
        "#download the treebank corpus from nltk\n",
        "nltk.download('treebank')\n",
        " \n",
        "#download the universal tagset from nltk\n",
        "nltk.download('universal_tagset')\n",
        " \n",
        "# reading the Treebank tagged sentences\n",
        "nltk_data = list(nltk.corpus.treebank.tagged_sents(tagset='universal'))\n",
        " \n",
        "#print the first two sentences along with tags\n",
        "print(nltk_data[:2])"
      ],
      "execution_count": 47,
      "outputs": [
        {
          "output_type": "stream",
          "text": [
            "[nltk_data] Downloading package treebank to /root/nltk_data...\n",
            "[nltk_data]   Package treebank is already up-to-date!\n",
            "[nltk_data] Downloading package universal_tagset to /root/nltk_data...\n",
            "[nltk_data]   Package universal_tagset is already up-to-date!\n",
            "[[('Pierre', 'NOUN'), ('Vinken', 'NOUN'), (',', '.'), ('61', 'NUM'), ('years', 'NOUN'), ('old', 'ADJ'), (',', '.'), ('will', 'VERB'), ('join', 'VERB'), ('the', 'DET'), ('board', 'NOUN'), ('as', 'ADP'), ('a', 'DET'), ('nonexecutive', 'ADJ'), ('director', 'NOUN'), ('Nov.', 'NOUN'), ('29', 'NUM'), ('.', '.')], [('Mr.', 'NOUN'), ('Vinken', 'NOUN'), ('is', 'VERB'), ('chairman', 'NOUN'), ('of', 'ADP'), ('Elsevier', 'NOUN'), ('N.V.', 'NOUN'), (',', '.'), ('the', 'DET'), ('Dutch', 'NOUN'), ('publishing', 'VERB'), ('group', 'NOUN'), ('.', '.')]]\n"
          ],
          "name": "stdout"
        }
      ]
    },
    {
      "cell_type": "code",
      "metadata": {
        "id": "bUXcX0_M4Wjx"
      },
      "source": [
        "# As NLTK data is large in size, spliting data in small for fast computing...\n",
        "split_data = nltk_data[:500]"
      ],
      "execution_count": 48,
      "outputs": []
    },
    {
      "cell_type": "code",
      "metadata": {
        "id": "htyXmaJC4Woa"
      },
      "source": [
        "# split data into training and validation set in the ratio 80:20\n",
        "train_set,test_set =train_test_split(split_data,train_size=0.80,test_size=0.20,random_state = 101)"
      ],
      "execution_count": 49,
      "outputs": []
    },
    {
      "cell_type": "code",
      "metadata": {
        "id": "apcxM0XQ4Wsd"
      },
      "source": [
        "# create list of train and test tagged words\n",
        "train_tagged_words = [ tup for sent in train_set for tup in sent ]\n",
        "test_tagged_words = [ tup for sent in test_set for tup in sent ]"
      ],
      "execution_count": 51,
      "outputs": []
    },
    {
      "cell_type": "code",
      "metadata": {
        "colab": {
          "base_uri": "https://localhost:8080/"
        },
        "id": "sfGcS9GK4W0Q",
        "outputId": "80126593-ae68-43dd-c1c3-aacf40d2264d"
      },
      "source": [
        "#use set datatype to check how many unique tags and vocabs are present in training data\n",
        "tags = {tag for word,tag in train_tagged_words}\n",
        "print(tags)\n",
        " \n",
        "# check total words in vocabulary\n",
        "vocab = {word for word,tag in train_tagged_words}\n",
        "print (vocab)"
      ],
      "execution_count": 53,
      "outputs": [
        {
          "output_type": "stream",
          "text": [
            "{'PRT', 'CONJ', 'ADJ', 'X', 'PRON', 'ADP', 'NOUN', '.', 'VERB', 'ADV', 'NUM', 'DET'}\n",
            "{'may', 'Hammerton', 'sector', 'Robert', 'were', 'jointly', 'sold', 'maturities', 'Danube', 'Darrell', 'securities', 'maintaining', 'exhibition', 'treat', 'excise', 'capital-gains', 'addressing', 'Next', '--', 'enforcement', '*-26', 'Alan', 'retired', 'story', 'proposed', 'would', 'Yields', 'passenger', 'owners', 'Bugs', 'Although', 'officer', 'cost', 'build', 'Mortgage', 'purhasing', '127.03', 'difference', 'powder', 'unauthorized', 'declines', 'interests', '*T*-42', '*T*-38', 'recent', 'tariff', 'reality', 'effects', 'hard', 'built', 'Washington', 'tobacco', 'Palestinian', 'did', 'men', 'Optical', 'meet', 'which', 'approved', 'succeeds', 'whistle', 'hefty', '-LRB-', 'cancer', 'increasing', 'sake', 'buckle', 'degree', 'sheep', 'officials', 'Toys', 'refund', 'Last', 'Boca', 'able', 'fraction', 'Moscow', 'clubs', 'looking', 'closed-end', '*T*-23', 'rewards', 'fight', 'Hudnut', 'midnight', 'Service', 'Us', 'screens', 'seats', 'acetate', 'Second', 'Babcock', 'Average', 'end', 'spent', 'Judge', 'less', '7.3', 'development', 'Springs', 'recently', 'disaffected', 'frustrating', 'chaotic', 'partially', 'contractors', 'soft', 'continues', 'costs', 'heavily', 'spinoff', 'law', 'currently', 'concerns', 'Sabhavasu', 'owned', 'refreshing', 'Indianapolis', 'materials', 'historically', 'fifth', 'task', 'Board', '*-43', 'times', 'dairy', 'Instead', 'elusive', 'those', 'cut', 'reflection', 'however', 'three', 'It', 'deemed', 'Faulding', 'hurting', 'Johnny', 'mirrors', 'risks', 'evaluated', 'investigation', '2.87', '*T*-43', 'yet', 'five', '1', 'contributed', 'payments', 'pre-1933', 'recognizing', 'significant', 'responsibility', '*-14', 'completely', 'called', 'Code', 'regret', 'concept', 'Magna', '47', 'European', '*-20', 'Without', 'because', '195', 'docile', 'lyrics', 'economic', 'posters', 'spring', 'clues', 'hottest', 'prototype', '*-1', 'well', 'generally', 'stood', 'different', 'E.', 'machine', 'found', 'invades', 'youthful', 'milk', 'James', 'Glauber', 'schools', 'casting', 'renovation', 'Electric', 'supply', 'lent', 'purchasers', 'supercomputer', 'spending', '21', '50.38', 'National', 'butterfly', '*RNR*-4', 'differential', 'House', 'unlike', 'Bankers', 'unique', 'appliances', 'over', 'set', 'hand', 'added', 'Pate', 'suggests', 'duty-free', 'gallium', 'short-lived', 'carry', 'accelerated', 'consider', 'department', 'fallen', 'deputy', 'soon', 'crippled', 'Legislation', 'Hampshire', 'read', '61', 'designated', 'left', 'traffic', 'M.', 'major', 'Warner', 'colony', 'substantial', 'II', 'voting', 'worked', 'behest', 'party', '*-33', 'happier', 'significantly', 'Nasdaq', 'Daiwa', 'entertain', '1987', 'open-end', '150.00', 'single-family', 'rising', 'Giants', '2.29', 'Tassinari', 'introduction', 'producer', 'sports', '9.625', 'indicate', 'Saudi', 'course', '400', 'annual', 'previously', 'hoopla', 'operations', '16.125', 'small', '*-7', 'lore', 'parties', 'Thomas', '73', 'Palestine', 'extremely', 'watches', 'require', 'parts', 'compared', 'February', 'Vitulli', 'bowed', 'all', 'inflationary', 'Mulford', 'hold', 'intellectual', '72', 'Motor', '63-year-old', 'novel', 'cutting', 'tracked', 'backlogs', 'David', '*T*-11', 'Salty', 'thrift', 'Beatles', 'purchased', 'twindam', 'protracted', '1950s', 'J.P.', 'values', 'Items', '3,288,453', '1\\\\/2', 'Ill.', 'firm', 'against', 'upstream', 'fixtures', 'list', 'WAFA', 'petulant', 'is', 'feels', '*T*-14', 'at', 'Spain', 'occur', 'Management', 'Assets', 'Behind', 'unit', 'Political', 'eliminate', 'shipments', 'giveaways', 'Senate', 'search', 'race', 'draw', 'features', 'downturn', 'life', 'Monetary', 'Soviet', 'stores', 'York', 'eased', 'sign', 'currencies', 'Bush', 'period', 'report', 'idiomatic', 'collected', '16', 'seasonally', 'before', 'Monday', 'Ohio', 'tenth', 'Despite', 'listed', 'cents', 'computing', 'book', 'Knowing', 'slack', 'scheduled', '125', 'idea', 'Each', 'back', 'support', 'blip', 'First', 'holding', 'Then', 'who', 'soul', 'player', 'traditional', 'debts', 'paper', 'come', 'buying', 'adjusted', '4.3', 'head', 'newsweekly', 'fact', 'body', 'shares', 'Macmillan', 'processors', '1953', '63', 'lowered', 'cast', '8.22', 'narrowly', 'demand', 'Polls', 'provide', 'State', 'so', 'Time', 'channel', 'Whiting', 'he', 'Portugal', 'this', 'pathlogy', 'evidence', 'outsiders', 'indicates', 'electronics', 'capped', 'remain', '2.5', 'troubled', 'polled', 'Foot', 'emerges', 'Stock', '236.74', 'Argentina', '37.3', 'great', '83.4', 'hierarchical', 'Soviets', 'late', 'bad', 'audiocassettes', 'among', 'half', 'financial', 'reason', '*T*-24', 'survival', 'profit', 'requested', 'Spoon', 'neither', 'Taipei', 'from', 'fully', 'commission', 'P.', 'benefited', 'Hollingsworth', 'simple', 'durable', 'Report', 'Along', 'Orchestra', 'movie', 'garage', 'distribution', 'World', 'Man', 'cash', 'work', 'grew', 'lifted', 'news', 'Wozniak', 'terms', 'launched', 'imbalances', '*-40', 'Hong', 'choice', 'where', 'B.', 'Kirkpatrick', 'for', 'economist', 'week', 'talk', 'Current', 'many', 'federal', 'growing', 'belong', 'strings', 'stressed', 'economists', 'Wilbur', 'Hoosier', 'Seagate', '*T*-34', 'amended', '361,376', 'estimated', 'Chase', 'Banking', 'Today', 'parliament', 'But', 'gives', 'products', 'Scherer', 'trademark', 'Pamela', 'point', 'tow', 'sixth', 'retailing', 'as', '52-week', 'decrease', 'For', 'Roof', 'paid', 'spokesman', 'dividends', 'project', 'standard', 'Bretz', 'feel', 'showing', 'Norman', 'At', 'lauded', 'payoff', 'editions', 'vice', 'every', 'Donaldson', 'talks', '*-8', 'Once', 'force', 'June', 'better', 'tracking', 'corners', 'Securities', 'prosecutors', 'Kent', '9.8', 'labor', 'classified', 'should', 'last', 'tax', 'predicted', 'Trojan', 'application', 'large', 'Arafat', 'commitment', 'when', 'by', 'justify', 'during', 'off', 'British', 'marks', '*T*-29', '1989', '*T*-36', '*T*-35', 'Valley', 'unfilled', 'Characters', 'F.', 'decision', 'Journal', '*T*-12', 'PLO', 'cigarettes', 'Seymour', 'coupled', '68', 'asbestos-related', 'Sebastian', 'covered', '38', 'English', 'another', 'lobster', 'fat', '295', 'Bunny', 'buy', 'October', 'registered', 'acquired', 'useful', 'retaliation', 'heartland', 'Utilities', 'Gary', 'Stephen', 'Output', 'keyboards', 'fragile', 'key', 'prices', 'them', 'offered', 'Excluding', 'priority', 'mid-October', 'manager', 'Nov.', '*-25', 'regulate', 'far', 'percentage', '*T*-1', 'settle', '*-60', 'uses', 'illegal', 'involving', 'make', 'implicit', 'thought', '2.4', 'ventilated', 'field', 'asked', 'sassy', 'ovation', 'Blackstone', 'advertised', 'strength', 'says', 'Commonwealth', '*T*-21', 'Have', 'assistant', 'erudite', 'study', 'treatment', 'enters', 'city', 'common', 'rusty', 'Corp', 'startling', 'waiving', 'father', 'short', 'fare', 'Cray', 'records', 'excessive', 'Beijing', 'business', 'got', 'producers', 'developments', 'value', 'foreign', 'Mae', 'hauled', 'intervention', 'creativity', 'pack', 'Bangkok', 'scenario', 'started', 'When', 'Gotta', 'manufacturers', 'fibers', 'dummies', 'Royal', 'several', 'Bates', 'Philippines', 'joined', '9.45', 'Tuesday', 'revenue', '600,000', 'loss', 'state-owned', 'related', 'pay', 'continued', 'persistent', 'Now', 'raced', 'Conn', 'pharmaceutical', 'coal', 'imminent', 'Belt', 'Nemeth', 'cancer-causing', '8', 'Earlier', 'male', 'transaction', 'inflation', 'spokeswoman', 'September', '*T*-56', 'books', 'Korea', 'Group', 'Some', 'aspects', 'sensation', 'frenzy', 'located', 'Sloan', '*-32', 'director', '301', 'signs', 'depend', 'recession', 'documents', 'Workers', 'per', 'outside', 'Stevens', '1986', 'relations', '570', 'upheld', 'old', 'escort', '41', 'newspaper', 'patterns', 'asking', 'made', 'proceedings', 'Daniels', 'officers', 'have', 'rationed', '*T*-41', 'agreement', 'Associates', 'According', 'article', 'completed', 'Curry', 'Until', 'Stanford', 'forces', '0.5', '120,000', 'outlawed', '60', 'usually', 'energy-services', 'subsidiary', 'temporarily', 'developing', 'school', 'note', '...', 'reserves', '*-35', 'contract', 'incurred', 'think', 'taxes', 'firms', 'themselves', 'foreign-stock', 'virtues', 'placed', 'named', 'And', 'Medicine', 'provoke', 'signboards', 'Financial', 'portfolio', 'pre-1917', '500', 'excess', 'prepayment', 'F.H.', 'marketing', 'Malaysia', 'Joseph', 'doing', 'George', 'Victor', 'convertible', 'beneficiaries', 'She', 'applied', '*-27', '*-57', 'intense', 'Commission', 'production', 'disk', 'Among', 'Washington-based', 'particularly', 'particular', 'could', 'Ms.', 'our', '*-45', 'York-based', 'computer', 'Operations', 'perpetuate', 'investment', 'front', 'T.', 'example', '4,393,237', 'Jenrette', 'bankruptcy', 'Speedway', 'Orders', 'senior', 'best-seller', 'sweet', '8.53', 'return', 'Bankruptcy', 'January', 'gold', 'bonuses', 'shareholders', 'succeed', 'Supreme', 'PC', 'replaced', '250', 'took', 'unimpeded', 'hours', 'give', 'buttoned-down', 'collections', '9', 'Tokyo', 'unfathomable', 'bidders', 'A', 'visitors', 'expected', 'principal', 'minute', 'red', 'improvement', 'disease', 'Kong', 'Money', 'PCs', 'eat', 'become', 'carries', 'College', 'All', 'IBM', 'boarding', 'reaches', 'whipsaw', 'parlors', 'mainframe', 'dominating', 'expansion', 'one', 'manufactured', 'crews', 'leader', 'elaborate', 'fields', 'instituted', 'power', 'lawyer', 'amending', 'rise', 'trying', 'videocassette', 'author', 'So', 'Manfred', 'Chilver', 'bid', 'stretching', 'LTV', 'reached', 'to', 'ruling', 'using', 'Boston', '30-day', 'addresses', '*T*-45', 'Mayor', 'Malizia', 'future', 'signaling', 'decline', 'slide', 'booked', 'River', 'meetings', 'conference', 'editor', '29', 'faster', 'Daniel', 'knowns', 'Bowes', 'Regarded', 'assets', 'Carlos', 'That', 'Terrence', '17.95', 'squeezed', 'Typically', 'turned', '14', 'places', 'approval', '*T*-4', 'including', 'international', 'Commerce', 'Brooke', 'describes', 'pages', 'More', 'share', 'number', 'vicious', 'disputed', '12.5', 'or', 'construction', 'Queen', 'leveling', 'Rockford', 'nation', 'Dana-Farber', 'Technology', 'reinvestment', 'Northampton', 'Neither', 'Steven', 'engineering', 'reduction', 'organization', 'Minister', 'devices', 'building', '4.75', 'Four', 'dam', 'lesser', '415.6', 'contrast', 'one-third', 'caretaker', 'burden', 'Inc.', 'Organization', 'money-market', 'assisted', 'sometimes', 'maturity', 'advance', 'Unlike', 'Steel', 'same', 'films', '7.90', 'Moreover', 'are', 'Economists', 'They', '*-41', 'mortgage', '8.19', 'curly', 'courts', 'survey', 'pre-Communist', '47.6', 'Bureau', 'overhead', 'levels', 'Nagymaros', 'program', 'round', 'Analysts', 'filters', 'contracted', 'asserted', '50', 'red-carpet', \"n't\", 'monthly', 'ago', 'above', '*ICH*-1', 'museum', 'March', 'Gregory', '11,000', 'dollar-denominated', 'Finmeccanica', 'offers', 'speed', 'Cray-3', 'manufacturing', '190', 'seven', 'financing', 'free', 'said', 'hospitals', '0.2', 'guest', 'drivers', 'reflect', 'eligible', 'burned', 'users', '*T*-61', 'debt', 'mesothelioma', 'obtain', 'unfair-trade', 'editorial', 'visiting', 'forgiven', 'invests', \"''\", 'Rowe', 'near', 'batting', 'Virgin', 'nuclear', 'see', 'only', '*-56', 'increases', 'fluent', 'humble', 'company', 'his', 'memory', 'regulatory', 'general', 'Kenneth', 'figures', 'smoke', 'charges', 'trained', 'creditor', 'index', 'asbestos', 'Czechoslovakia', '23', 'advice', 'figure', 'run', 'matter', '0.4', 'everyday', 'advertising', 'second', '240,000', '2.6', 'stress', 'Wa', 'high-technology', 'ballplayers', 'Christian', 'investors', 'response', 'Bolduc', 'smokers', ':', 'transferring', 'acknowledging', 'hope', 'true', 'pool', 'Homebrew', 'snow', 'man', 'included', 'steel', 'watch', 'theory', 'governor', 'plus', 'Finance', 'Both', 'Pitney', 'plunged', 'raising', 'regimented', 'strapped', 'latest', 'Treasury', 'exports', 'regulation', 'careers', 'Indiana', 'Tarwhine', 'restricts', 'buses', 'corporate', 'victory', 'easy', 'industry', 'Italian', '46', 'after', 'managers', 'raring', 'Factories', '5.29', 'seven-day', 'barrels', 'Westborough', 'necessary', '*EXP*-2', 'announce', 'Braidwood', 'being', 'other', 'stockholders', '?', 'television', 'standards', 'language-housekeeper', 'talking', 'China', 'plan', 'chip', 'England', 'world-wide', '1955', 'increasingly', 'branch', 'Co.', 'brought', '340,000', 'banks', 'utility', 'centers', '120', 'slash', 'mere', 'police', 'interim', '*T*-52', 'tied', '*-48', 'adviser', 'too', 'procedures', 'reorganization', 'India', 'Their', 'use', '*-44', 'ended', 'motor', 'sales', '9.37', '20.5', 'went', 'degrees', 'default', 'stringently', 'boom', 'Chinchon', 'issuing', 'Cheese', 'Strait', '2.2', 'improved', 'country', 'Guinea', '1.55', 'introducing', 'Hatch', '5.9', 'past', 'performance', '1929', 'III', 'steeper', 'businesses', '84.29', 'human', 'whose', 'risk', 'expanding', 'action', 'busloads', 'belongs', 'holdings', 'class', 'saying', 'Hoffman', 'receiving', 'improvements', 'starters', 'and', 'chronicle', 'Wickliffe', 'lung', '70', '*-51', 'division', 'refunds', 'cabinet', 'executive', 'amount', 'holders', 'companies', 'austere', '88', 'earnings', 'satisfactory', 'sharply', '*-31', 'worth', 'oblivion', 'intensity', 'Exchange', 'import', 'Brazil', '*T*-9', 'invent', 'show', 'undersecretary', 'Club', 'diagnosed', 'developed', 'combined', 'amusing', 'between', 'price', 'Rapanelli', 'obligations', 'capsules', '11', 'Mossman', 'contracts', 'calculate', 'operating', 'inadequate', 'surplus', 'Japan', 'sinister', 'increase', 'Byron', 'reduce', 'institutional', 'range', 'Australia', 'PS', 'on', 'Communists', 'chemical', 'billions', 'weeks', 'Olympic', 'good', 'This', 'Fund', 'bidding', 'science', '58', 'Following', 'nor', 'reporting', 'failed', 'special', 'explosive', 'fattened', '*-11', 'Jersey-based', 'Vinken', 'negotiations', 'chips', 'interview', 'drinks', 'hosted', '*T*-49', 'slip', 'subject', 'capital', 'explained', 'software', '2', '64-year-old', 'addition', 'Elsevier', 'argue', 'Corp.', 'chairman', 'ready', 'must', '*-15', '*EXP*-3', 'even', 'dinner', '45', 'yen', '1985', 'banned', '*T*-32', 'researchers', 'take', 'battery-operated', 'H.', 'Australian', 'Back', 'Vermont', 'hotel', 'assume', 'News', 'acquire', 'been', 'International', '188', '1934', 'publishing', 'nonexecutive', 'taxable', 'dollars', 'lieutenant', 'funny', 'plot', '5.39', 'problem', 'prying', '54-year-old', 'include', 'clouds', 'seek', 'Toronto', 'Lufkin', '2.80', 'defense', 'say', 'flat', '-RRB-', 'Co', 'Big', 'almost', 'carried', 'Colorado', 'semiannual', 'Discos', 'improve', 'through', 'block', 'savings', 'systems', 'about', 'sheet', 'buildings', 'months', 'solicitous', 'lower', 'nondurable', 'organizations', 'conditions', 'precedent', 'aide', 'Mortimer', 'aware', 'one-country', 'assembled', 'throughout', 'Hills', 'held', 'yield', 'reducing', '10.2', 'existed', 'Default', 'greater', '*-22', 'Share', 'fixed', 'analysts', 'Trade', 'gaining', '*-61', 'imported', 'bilateral', 'giving', 'Inventories', '*T*-20', '*-67', 'durable-goods', 'New', 'automotive', 'fierce', 'years', 'find', '.', 'memories', 'Chrysler', 'Sony', 'team', 'attracts', 'Under', 'Circuit', 'odd', 'equipment', 'paying', 'authors', 'hobbyists', '22', 'Dolphin', 'Not', 'Backer', '1981', 'partners', 'big', '*T*-58', '52', 'short-term', '*T*-57', 'year-to-year', 'Here', '109.73', 'a', 'deaths', 'right', 'restaurants', 'thing', 'remaining', 'charts', 'concern', 'terrine', '325,000', 'orders', 'reading', 'plenty', 'early', 'totaling', '*-19', 'anything', 'hostage', 'third-highest', 'dropped', 'Thailand', 'global', '*-2', 'tempts', 'intended', 'like', 'expenses', '7.5', 'quotas', '*T*-55', 'Rust', 'Grace', 'London', 'There', 'renewed', 'writers', 'Latin', 'bans', 'despite', 'brokers', 'rights', 'yielding', 'refunded', 'highest', 'attention', 'Society', 'theaters', 'hard-drinking', 'Edison', 'entering', 'groups', 'investing', 'chrysotile', 'Dreyfus', 'Allen', 'establishing', 'start', 'Menem', 'meal', 'society', 'essentially', 'equity', 'independent', 'working', '*-52', 'two', 'burlap', 'Gates', 'decided', 'lengthened', 'ruled', 'A.', '64', 'halve', 'He', 'nutty', '370', 'types', 'Bailey', 'handling', 'amphobiles', 'put', 'industrialized', 'Ricken', 'preferences', 'you', 'Corazon', 'withdraw', '*', 'fell', '`', 'consumers', 'we-Japanese', 'twinned', 'Arthur', 'Thai', 'broader', 'chauffeur', 'pointed', 'sale', 'producing', 'Class', 'long', 'remove', 'Simon', 'Wall', 'dams', 'died', 'Philippine', 'becoming', 'Donoghue', 'oversee', '*T*-8', 'O.', 'annually', 'Assistant', 'disputes', 'forum', 'such', 'vehicles', 'likely', 'Court', 'adapted', 'breakfast', 'retorts', 'August', 'joint', 'contractor', 'People', '*-24', 'court-ordered', 'United', '*-28', 'totaled', 'will', 'hopes', 'lights', 'Haven', 'inched', 'decide', 'easily', 'reader', '0', 'Oct.', '*-63', 'employs', '*-36', 'can', 'pressured', 'creating', 'employee', 'impudent', 'of', '$', 'mortgage-based', 'introduce', 'imports', 'Lehman', 'varying', '53', 'she', 'outstanding', 'petition', 'owns', 'chary', 'notion', 'observations', 'electricity', 'cluttered', ',', 'pirates', 'payrolls', 'countries', 'N.H.', 'initialing', 'refile', 'purchases', '*T*-7', 'bonds', 'either', 'Jobs', 'stocks', 'repayment', 'built-from-kit', 'system', 'Jr.', 'Another', 'composite', 'Norwegian', 'regulators', '*T*-15', 'sluggish', 'issue', 'loans', 'not', 'giants', 'led', 'expand', 'Richard', 'official', 'classifications', 'currency', 'closely', 'further', 'Foreign', 'exempt', 'changed', 'harmony', 'folks', 'contemporary', 'filed', 'elevators', 'PLC', 'Areas', 'Lord', 'globe', 'Controls', 'Country', 'morning', 'doubled', 'spokewoman', 'Federal', '140', 'usual', 'primarily', 'personal', 'technical', 'Manchester', 'drawing', 'Bank', 'video-viewing', 'million', 'fledgling', 'problems', 'permanent', 'Chinese', 'fund', '90', 'manufacture', '43', 'stiff', 'Previously', 'load', '*T*-51', 'earliest', 'name', 'makes', 'page', 'announced', 'goverment', 'Sheep', '1979', '*T*-25', 'ties', 'four', 'phone', 'workers', 'Asia', '212', 'Nonetheless', 'eases', 'him', 'However', 'slowing', 'R.', 'entered', 'Mexico', 'signals', 'but', 'own', 'Chapter', 'negotiators', 'sex', 'tricky', 'agreed', '7', 'R.P.', 'Wheeland', 'Polish', 'win', 'pace', 'important', 'lives', 'scrambled', 'faces', 'copyright', 'fans', 'slid', 'exceptionally', 'membership', 'whom', 'You', 'substance', 'Seoul', 'buy-out', 'merit', '160', '0.1', '&', 'deficit', 'University', '*T*-62', 'Deane', 'Hara', 'Compound', 'I', 'rather', 'food', '*T*-2', 'magazine', '38.3', '*-17', 'aid', 'stock', 'denied', 'Malcolm', 'employees', 'supercilious', 'Pramual', 'year', 'Phillips', 'reward', 'positions', 'nine', 'worry', 'quips', 'Manufacturers', 'noted', 'Mass', 'genuine', 'C$', 'Katzenstein', 'Ministry', 'want', 'arising', 'preferred', '0.3', '13.73', 'kicked', 'technology', '*-10', 'little', 'redeploy', 'once', 'worst-case', 'landing', 'permitted', 'Maytag', '*-34', 'no', 'deal', 'star', 'aghast', 'Cancer', 'changes', 'Appellate', 'first', 'bring', 'unproductive', 'board', 'version', 'association', 'dashes', 'retain', 'negotiator', 'her', 'crash', 'Champagne', 'drink', 'Ltd.', 'Mrs.', 'blue', 'ad', 'purchasing', 'measure', 'direct', 'sets', 'lofty', 'Loews', 'previous', 'damage', 'triple', 'brat', 'Colo.', 'CHANGED', 'exposed', 'fees', 'integration', 'summer', 'Akerfeldt', 'private', 'passages', 'since', 'American', '*ICH*-3', 'makers', '71', 'ran', 'wildly', 'holds', 'low', 'directly', 'veal', 'Messrs.', 'premium', 'request', 'administrative', 'mark', '13,056', 'clobbered', 'viewpoint', '20', 'meeting', 'May', 'meets', 'Maxwell', '*T*-6', 'bars', 'chief', 'mixed', 'No', 'followed', 'close', 'Russian', \"'re\", 'roll', 'bills', 'money', 'hook', 'call', 'might', 'certain', 'After', 'Singapore', 'owed', 'month', 'trade', 'Pacific', '12-member', 'chain', 'target', 'gyrations', 'hung', 'Plaza', 'none', 'Affairs', 'authority', 'money-fund', 'Southern', 'solidarity', 'whether', 'Perch', 'dozen', 'image', 'heavy', 'Eastern', 'Micronite', '*T*-10', '3.1', 'terminated', 'Debt', 'proposal', 'clearly', 'Moleculon', 'relatively', 'new', 'describe', 'until', 'counterparts', 'subscribers', 'effort', 'longest', 'filing', 'forecast', 'had', 'stepping', 'deterring', '8.45', 'people', '339', 'later', 'Timex', 'still', 'slow', 'ambitious', '352.7', '37', 'Carballo', 'president', 'prospects', 'research', '3.9', 'McDermott', 'speedway', 'portfolios', 'needle-like', 'wears', 'Barnum', 'act', 'reports', 'legislation', 'intellectual-property', 'nightmare', 'taste', 'achieved', '*T*-17', 'cutbacks', 'label', 'sanctions', 'space', 'explosion', 'dusty', 'Instruments', 'Factory', 'charm', '0.7', 'export', 'members', 'Berson', '19', 'vendors', 'fewer', 'form', 'Japanese', 'directors', 'Blanchard', 'In', 'possible', 'Chile', 'with', 'managing', 'few', 'funds', '*-46', 'C-90', 'mania', 'year-end', 'attractive', 'age', '8.56', 'industrial-production', 'Du', 'details', 'Preliminary', 'suffer', 'revive', '*T*-26', 'expects', 'drain', 'symbol', 'rates', 'billion', 'household', 'finding', '241', 'Union', 'product', '*U*', 'balked', 'restructuring', 'ratepayers', 'broken', 'Gingl', 'conforms', 'certainly', 'hardware', '*ICH*-2', 'financially', 'main', '24', 'compound', 'Dr.', 'undertaking', 'diplomatic', 'based', 'Bass', 'units', 'case', 'marriages', 'Feb.', 'pour', 'ensnarled', 'market', 'invest', 'modest', '*-37', 'nearly-30', 'boosted', 'versions', 'smoking', 'exposure', 'export-oriented', 'Austria', 'Illinois', '*T*-13', 'some', 'preliminary', 'else', 'resistant', 'do', 'also', 'sums', 'exceed', 'taper', 'Symphony', 'Carla', 'their', '10-lap', 'Warsaw', '*-68', 'July', 'wallowing', 'again', 'solved', 'brings', 'type', '*-39', 'environmental', 'cloud', 'additional', 'Europe', 'Walkman', 'lunch', 'what', 'single-handedly', 'arsenide', '%', 'effective', 'Anything', 'Imports', 'An', 'incentive', 'Argentine', 'its', 'lawsuits', 'complained', 'sauce', 'posted', 'Goldman', '*T*-18', 'Wilcox', 'expect', 'launch', 'Dodge', '40-year-old', 'Secretary', 'result', 'lift', '33', 'FERC', 'professor', 'appeals', 'complaint', 'telephones', 'Texas', 'met', 'gloomy', 'factors', '13', 'Crude', 'court', 'both', 'Public', 'Fannie', 'rock', 'protect', '20,000', 'under', 'touchy', 'withdrawal', '2,700', 'boost', 'publicly', '1,298', 'patents', 'here', 'fast-food', 'Private', 'according', '150', 'nets', 'Hutton', 'center', 'young', 'discount', 'offer', 'Morita', 'prescient', '2.1', 'Nipponese', '1988', 'Conn.', 'Pont', 'into', 'now', 'attempts', 'diseases', 'stopped', 'divest', 'teams', 'acts', '2.25', 'Hartford', 'Kodansha', '6', 'focused', 'separate', 'quantities', 'Johnson', 'around', 'Americans', 'happen', 'Dollar', '59', 'tasty', 'be', 'so-called', 'smooth', 'nations', 'protection', 'high', 'emerging', 'mousseline', 'mundane', 'gas', 'average', 'renovated', 'endorsed', 'Arabia', 'longer', 'reflects', 'came', 'sacks', 'produce', 'THAT', 'unrealistically', 'began', 'dust', '1956', 'reported', '*T*-48', '100', 'raspberry', 'concerned', '*T*-39', 'Its', 'controls', 'COMPUTERS', 'practice', 'effectively', '3', 'recorded', 'mutual', 'F.W.', 'itself', 'us', 'Wild', 'permit', 'studied', '*-64', 'full', 'U.S.S.R.', 'South', 'Mayland', 'aerospace', 'While', 'that', 'If', 'moved', 'swing', 'settled', 'Shipments', 'blamed', 'mechanically', 'execs', '1917', 'Charles', 'Clays', 'newcomer', 'instruments', 'Aquino', 'judge', 'Pick', '*-62', 'play', 'awarded', 'uncomplaining', 'specialists', 'drop', 'chefs', 'outpaced', 'they', 'crude', 'four-color', 'leading', 'Paul', '*RNR*-1', 'unreasonable', 'About', '10', 'food-shop', 'audit', 'salarymen', 'contain', 'findings', 'specializing', 'tested', 'numbered', '1920s', 'huge', 'was', 'non-encapsulating', 'than', 'marketplace', 'From', 'store', 'today', 'curb', 'yen-support', 'malignant', 'acquisition', 'securities-based', 'game', 'Carney', 'became', '*-53', 'Northeast', 'Platt', 'Spielvogel', 'along', 'oil', 'state', 'cigarette', 'worried', 'environmentalists', 'IMSAI', 'each', 'downtown', 'agency', 'Altair', 'maintained', 'plant', 'SEC', 'Industry', 'out', 'robotic', 'pharmaceuticals', 'comparable', 'self-aggrandizing', 'gradually', '19.3', 'Committee', 'skyrocketed', 'William', 'largest', 'indicators', 'dumped', 'conflicts', 'pursue', 'IBC', 'City', 'mainland', '245', 'sells', 'review', 'get', 'surveyed', 'turf', 'opened', 'God', 'province', 'mignon', 'AIDS', 'mobster', 'Signet', 'continue', 'buffet', 'miles', 'pick', 'popular', 'something', 'base', 'we', 'CEOs', 'lack', 'Erbamont', 'trillion', 'formerly', 'balance', 'below', 'suspect', 'appears', 'stalls', 'process', 'raised', 'anticipated', 'inventories', 'former', 'compensate', 'By', 'steady', 'gelatin', 'measures', 'residential', 'winter', 'satisfying', 'setback', 'extend', 'surged', '8.47', '1992', 'mortgage-backed', 'elected', 'purchase', 'heavy-duty', 'Newgate', 'local', \"'\", 'insist', 'Institute', 'Exports', 'associates', 'triggered', 'homes', 'message', 'days', 'Luce', 'seeking', 'Canadian', 'stand', '27', 'designer', 'material', 'The', 'Economic', 'computers', 'These', 'boosts', 'engaging', 'very', 'industrial', '*T*-46', 'Association', 'Sol', 'Purepac', 'cars', '*-42', '*-47', 'Dogs', 'dividend', 'buildup', 'part', 'Douglas', 'area', 'Poland', 'Computer', 'Shugart', 'pianist-comedian', 'Goode', 'dormitory', 'As', 'wants', 'R', 'Davenport', 'ask', 'rose', 'in', 'energy', 'style', 'Besides', 'climbing', 'underscore', '8.04', 'Kerensky', 'overtime', '*?*', 'Illuminating', 'day', 'often', '*T*-59', 'vary', 'Audit', 'auction', 'Oil', '2.875', 'Montedison', 'there', 'unless', 'surge', 'seems', '37.5', 'Longer', 'Minneapolis-based', 'best', 'Lorillard', 'wild', 'crocidolite', 'produced', 'required', 'gains', 'town', 'tallies', 'pursuant', 'unproven', 'Tourism', 'setting', 'keep', 'fed', 'Cleveland', 'What', '*-55', 'longevity', 'evening', '1.5', 'rejected', 'public', 'tend', 'believe', 'Rothschild', 'Mr.', 'down', 'maker', 'scientists', 'Generalized', 'change', 'climbed', 'complicated', 'matters', 'fall', 'away', 'suspended', 'Rexinger', 'position', 'mirror', 'Kalipharma', 'rate', 'group', 'begin', 'factory', 'plate', 'quarterly', 'enormous', 'threat', 'family', 'Fellowship', 'copies', 'advertisers', 'targeted', 'Frederick', 'standing', 'join', 'adjusting', 'THREE', 'provided', 'stake', 'predicting', 'obedient', 'cases', 'Apple', 'enormously', 'ordered', '*T*-40', 'Health', '``', 'Stronach', '*T*-22', 'home', '12', 'Negus', 'just', 'political', 'twin', 'pressures', 'System', 'trading', '450', 'affairs', '18', 'individual', 'snapped', 'has', 'place', 'committee', 'provision', 'asbestosis', 'executives', 'although', 'least', 'amounts', '*-6', 'chocolate', '900', 'total', 'economy', 'partner', 'letting', 'yields', 'summer\\\\/winter', 'machines', '38.375', 'Seahorse', '59.6', 'yesterday', 'Act', 'Central', 'already', 'sheepskin', 'seasonal', 'requires', 'poured', 'making', '1975', 'possessions', 'though', 'billionaire', 'dry', 'Nevertheless', 'six', 'jumping', 'Government', 'operational', 'ever', 'face', 'beginning', 'moons', 'service', '1.82', 'eventually', 'Wood', 'desultory', 'potential', '1990', 'these', 'Daily', 'identified', 'World-Wide', 'how', 'bought', 'affordable', '55', 'recognition', 'capacity', 'warning', 'used', '28', 'forward', 'Zuckerman', 'consumer', 'level', 'earlier', '*-38', 'rapid', '*T*-16', 'initial', 'customers', 'sponsor', 'Porter', 'competition', 'seller', 'Yet', 'six-month', 'cite', 'Hotel', 'On', 'Dutch', 'Hungary', 'helped', 'management', '*-4', 'girlfriend', 'top', 'account', 'prolonged', 'Shearson', 'information', 'creditors', 'if', '49', 'computerized', 'includes', 'Turkey', 'bin', 'compel', 'rooted', 'premiums', 'piracy', 'jump', 'Such', 'Newsweek', 'declined', '415.8', 'delivering', 'next', 'leave', 'comment', 'John', 'Department', '*T*-3', 'property', 'Borge', 'going', 'together', 'Plans', 'ballroom', 'described', 'Elliott', 'exhaust', 'surviving', 'overruns', '0.9', 'medium-sized', 'government', 'rival', 'order', 'top-yielding', 'reductions', 'hero', 'gauges', 'reruns', 'White', 'declining', 'more', 'results', 'the', 'slowdown', 'scrutiny', 'electric', 'subscriber', 'complete', 'underlying', '*-3', 'way', 'seemed', 'US$', 'Talcott', 'Taiwan', 'enough', 'consomme', 'Neil', '701', 'Stamford', 'weeklies', 'lead', 'resigned', 'Congress', 'dancing', 'democratic', 'materialistic', 'arrangement', 'duckling', 'stored', 'Circulations', 'it', 'We', 'prompted', 'discounts', 'W.R.', '1977', 'imaginative', 'Preferences', 'Brenda', '*T*-54', '5.5', 'progress', 'language', 'designed', 'file', 'L.', 'wide', '321,000', 'long-term', 'kind', 'Americana', 'office', 'baseball', 'abating', '2,303,328', 'drives', 'any', 'November', '*-59', 'stars', 'ranged', 'low-priced', 'fabled', 'President', '*-13', '*-5', 'mechanical', 'counts', 'expedited', 'calculations', ';', 'appear', 'issued', 'cotton', 'investigations', 'desktop', 'ceiling', 'Street', 'guaranteed', 'increased', 'most', 'Research', '1997', 'continuing', 'go', 'fine', '*T*-60', 'consumption', 'goods', 'models', \"'s\", 'Representative', 'question', 'PAP', '4.8', 'investments', 'probably', 'challenge', 'exclusive', 'consecutive', 'Esso', 'similar', 'quickly', 'Islands', 'filter', 'finance', 'rises', 'protecting', 'McGraw-Hill', 'disregard', 'Austrian', 'borrowing', 'interest', 'internal', 'overseas', 'Murakami', 'Sales', '*T*-31', 'gave', 'amid', 'worsening', 'U.S.', 'voted', 'Ross', 'prove', 'growth', '*T*-19', 'April', 'except', 'Pierre', 'protections', 'affiliate', 'planned', '236.79', 'slowly', '40', 'roughhewn', '30', 'Sachs', 'bank', 'Yasser', 'considered', 'Reserve', 'time', 'assigned', 'help', 'espouse', 'without', '*T*-47', 'instance', 'activity', 'line', 'electronic', 'Mass.', 'discouraging', '25', 'credit', 'world', 'higher', '30,841', 'Liberation', '1991', 'D.', 'McAlpine', '*T*-53', 'much', 'trend', 'learned', 'ban', 'receive', 'circulation', '497.34', 'markets', 'confirmed', 'caused', 'disturbing', 'visit', 'N.V.', 'announcer', '*-54', 'Trustco', 'published', 'showings', 'showed', 'control', 'does', '*-29', 'strong', 'newly', '26,000', 'closed', 'resources', 'watched', 'guests', 'collecting', 'up', 'current', 'welcomed', 'Mazda', 'while', 'sell', 'Tatsunori', 'search-and-seizure', 'data', 'wives', 'received', '*EXP*-1', 'Energy', 'S.p', 'seized', 'then', '100,980', 'an', 'written', 'competitor', 'honor', 'mature', 'beat', 'dessert', 'twice', 'expire', 'Vose', 'personally', 'Any', 'multibillion-dollar', 'nearly', 'royalty', 'raise', 'attached', 'diversifying'}\n"
          ],
          "name": "stdout"
        }
      ]
    },
    {
      "cell_type": "code",
      "metadata": {
        "colab": {
          "base_uri": "https://localhost:8080/"
        },
        "id": "AhgqAQ0O4W4M",
        "outputId": "86abe085-7120-48d8-bca8-939eba34c837"
      },
      "source": [
        "# compute Emission Probability\n",
        "# How likely a word will be Noun, Verb, Adjective, Adverb and all.\n",
        "\n",
        "def word_given_tag(word, tag, train_bag = train_tagged_words):\n",
        "    tag_list = [pair for pair in train_bag if pair[1]==tag]\n",
        "    count_tag = len(tag_list)             #total number of times the passed tag occurred in train_bag\n",
        "    w_given_tag_list = [pair[0] for pair in tag_list if pair[0]==word]\n",
        "\n",
        "#now calculate the total number of times the passed word occurred as the passed tag.\n",
        "    count_w_given_tag = len(w_given_tag_list)\n",
        "    return (count_w_given_tag, count_tag)\n",
        "\n",
        "# Let's see how this Emission Probability does work !\n",
        "word = \"sales\"\n",
        "tag = \"NOUN\"\n",
        "train_bag = train_tagged_words\n",
        "\n",
        "emission_prob = word_given_tag(word, tag, train_bag)\n",
        "emission_prob"
      ],
      "execution_count": 56,
      "outputs": [
        {
          "output_type": "execute_result",
          "data": {
            "text/plain": [
              "(6, 2926)"
            ]
          },
          "metadata": {
            "tags": []
          },
          "execution_count": 56
        }
      ]
    },
    {
      "cell_type": "code",
      "metadata": {
        "colab": {
          "base_uri": "https://localhost:8080/"
        },
        "id": "bFjwZ7oz5FVd",
        "outputId": "d3c49840-3459-4a1b-bb2a-f4faf4738d7b"
      },
      "source": [
        "# compute  Transition Probability\n",
        "# How likely a sequence followed by other sequences\n",
        " \n",
        "def t2_given_t1(t2, t1, train_bag = train_tagged_words):\n",
        "    tags = [pair[1] for pair in train_bag]\n",
        "    count_t1 = len([t for t in tags if t==t1])\n",
        "    count_t2_t1 = 0\n",
        "    for index in range(len(tags)-1):\n",
        "        if tags[index]==t1 and tags[index+1] == t2:\n",
        "            count_t2_t1 += 1\n",
        "    return (count_t2_t1, count_t1)\n",
        "\n",
        "\n",
        "# Let's see how transition probability does work !\n",
        "\n",
        "t2 = \"ADJ\"\n",
        "t1 = \"NOUN\"\n",
        "train_bag = train_tagged_words\n",
        "\n",
        "transition_prob = t2_given_t1(t2, t1, train_bag)\n",
        "transition_prob"
      ],
      "execution_count": 57,
      "outputs": [
        {
          "output_type": "execute_result",
          "data": {
            "text/plain": [
              "(38, 2926)"
            ]
          },
          "metadata": {
            "tags": []
          },
          "execution_count": 57
        }
      ]
    },
    {
      "cell_type": "code",
      "metadata": {
        "colab": {
          "base_uri": "https://localhost:8080/"
        },
        "id": "SocBsDIG5Ifl",
        "outputId": "f08ee73c-f80c-48a7-9453-448e1f0edc67"
      },
      "source": [
        "# creating t x t transition matrix of tags, t= no of tags\n",
        "# Matrix(i, j) represents P(jth tag after the ith tag)\n",
        " \n",
        "tags_matrix = np.zeros((len(tags), len(tags)), dtype='float32')\n",
        "\n",
        "for i, t1 in enumerate(tags):\n",
        "    for j, t2 in enumerate(tags): \n",
        "        tags_matrix[i, j] = t2_given_t1(t2, t1)[0]/t2_given_t1(t2, t1)[1]\n",
        " \n",
        "print(tags_matrix)"
      ],
      "execution_count": 58,
      "outputs": [
        {
          "output_type": "stream",
          "text": [
            "[[0.         0.         0.06862745 0.01633987 0.0130719  0.0130719\n",
            "  0.2777778  0.05228758 0.35947713 0.00980392 0.04901961 0.14052288]\n",
            " [0.         0.         0.12135922 0.         0.03883495 0.03398058\n",
            "  0.43203884 0.01456311 0.17475729 0.04368932 0.02427184 0.11650486]\n",
            " [0.00764526 0.01681957 0.06880734 0.01529052 0.00152905 0.09480122\n",
            "  0.6788991  0.06269113 0.01070336 0.00764526 0.02752294 0.00764526]\n",
            " [0.16666667 0.0046729  0.02180685 0.09345794 0.04517134 0.17133956\n",
            "  0.05919003 0.16666667 0.19314642 0.02647975 0.00155763 0.04984424]\n",
            " [0.01793722 0.00896861 0.06278027 0.11659193 0.00896861 0.03139013\n",
            "  0.24663678 0.01345291 0.4394619  0.03139013 0.02242152 0.        ]\n",
            " [0.00096805 0.         0.09777348 0.03291385 0.04356244 0.02129719\n",
            "  0.34365925 0.03969022 0.00580833 0.01548887 0.07938045 0.3194579 ]\n",
            " [0.0430622  0.04203691 0.01298701 0.02289815 0.00615174 0.17737526\n",
            "  0.2740943  0.22795625 0.1582365  0.01742994 0.00649351 0.0112782 ]\n",
            " [0.00093545 0.04677268 0.05238541 0.01683817 0.05799813 0.09167446\n",
            "  0.22731525 0.05332086 0.0869972  0.05799813 0.09073901 0.2160898 ]\n",
            " [0.03960396 0.00380807 0.05483625 0.2239147  0.03579589 0.10053313\n",
            "  0.10586444 0.02894136 0.18583396 0.08910891 0.01904036 0.11271896]\n",
            " [0.01529052 0.01223242 0.14067279 0.04892967 0.01223242 0.13149847\n",
            "  0.02752294 0.11009175 0.3058104  0.08562691 0.04281345 0.06727829]\n",
            " [0.01098901 0.01923077 0.03296703 0.21428572 0.         0.04945055\n",
            "  0.37637362 0.10439561 0.01373626 0.00274725 0.17307693 0.00274725]\n",
            " [0.00114416 0.00114416 0.2402746  0.0389016  0.00343249 0.01258581\n",
            "  0.6052632  0.02517162 0.03089245 0.01258581 0.0228833  0.00572082]]\n"
          ],
          "name": "stdout"
        }
      ]
    },
    {
      "cell_type": "code",
      "metadata": {
        "colab": {
          "base_uri": "https://localhost:8080/",
          "height": 426
        },
        "id": "AM9A3Glj5Kzz",
        "outputId": "7c3915df-0cb2-4b1a-f7da-497fbb8c644e"
      },
      "source": [
        "# convert the matrix to a data frame for better readability\n",
        "# the table is same as the transition table shown in section 3 of article\n",
        "\n",
        "tags_df = pd.DataFrame(tags_matrix, columns = list(tags), index=list(tags))\n",
        "display(tags_df)"
      ],
      "execution_count": 60,
      "outputs": [
        {
          "output_type": "display_data",
          "data": {
            "text/html": [
              "<div>\n",
              "<style scoped>\n",
              "    .dataframe tbody tr th:only-of-type {\n",
              "        vertical-align: middle;\n",
              "    }\n",
              "\n",
              "    .dataframe tbody tr th {\n",
              "        vertical-align: top;\n",
              "    }\n",
              "\n",
              "    .dataframe thead th {\n",
              "        text-align: right;\n",
              "    }\n",
              "</style>\n",
              "<table border=\"1\" class=\"dataframe\">\n",
              "  <thead>\n",
              "    <tr style=\"text-align: right;\">\n",
              "      <th></th>\n",
              "      <th>PRT</th>\n",
              "      <th>CONJ</th>\n",
              "      <th>ADJ</th>\n",
              "      <th>X</th>\n",
              "      <th>PRON</th>\n",
              "      <th>ADP</th>\n",
              "      <th>NOUN</th>\n",
              "      <th>.</th>\n",
              "      <th>VERB</th>\n",
              "      <th>ADV</th>\n",
              "      <th>NUM</th>\n",
              "      <th>DET</th>\n",
              "    </tr>\n",
              "  </thead>\n",
              "  <tbody>\n",
              "    <tr>\n",
              "      <th>PRT</th>\n",
              "      <td>0.000000</td>\n",
              "      <td>0.000000</td>\n",
              "      <td>0.068627</td>\n",
              "      <td>0.016340</td>\n",
              "      <td>0.013072</td>\n",
              "      <td>0.013072</td>\n",
              "      <td>0.277778</td>\n",
              "      <td>0.052288</td>\n",
              "      <td>0.359477</td>\n",
              "      <td>0.009804</td>\n",
              "      <td>0.049020</td>\n",
              "      <td>0.140523</td>\n",
              "    </tr>\n",
              "    <tr>\n",
              "      <th>CONJ</th>\n",
              "      <td>0.000000</td>\n",
              "      <td>0.000000</td>\n",
              "      <td>0.121359</td>\n",
              "      <td>0.000000</td>\n",
              "      <td>0.038835</td>\n",
              "      <td>0.033981</td>\n",
              "      <td>0.432039</td>\n",
              "      <td>0.014563</td>\n",
              "      <td>0.174757</td>\n",
              "      <td>0.043689</td>\n",
              "      <td>0.024272</td>\n",
              "      <td>0.116505</td>\n",
              "    </tr>\n",
              "    <tr>\n",
              "      <th>ADJ</th>\n",
              "      <td>0.007645</td>\n",
              "      <td>0.016820</td>\n",
              "      <td>0.068807</td>\n",
              "      <td>0.015291</td>\n",
              "      <td>0.001529</td>\n",
              "      <td>0.094801</td>\n",
              "      <td>0.678899</td>\n",
              "      <td>0.062691</td>\n",
              "      <td>0.010703</td>\n",
              "      <td>0.007645</td>\n",
              "      <td>0.027523</td>\n",
              "      <td>0.007645</td>\n",
              "    </tr>\n",
              "    <tr>\n",
              "      <th>X</th>\n",
              "      <td>0.166667</td>\n",
              "      <td>0.004673</td>\n",
              "      <td>0.021807</td>\n",
              "      <td>0.093458</td>\n",
              "      <td>0.045171</td>\n",
              "      <td>0.171340</td>\n",
              "      <td>0.059190</td>\n",
              "      <td>0.166667</td>\n",
              "      <td>0.193146</td>\n",
              "      <td>0.026480</td>\n",
              "      <td>0.001558</td>\n",
              "      <td>0.049844</td>\n",
              "    </tr>\n",
              "    <tr>\n",
              "      <th>PRON</th>\n",
              "      <td>0.017937</td>\n",
              "      <td>0.008969</td>\n",
              "      <td>0.062780</td>\n",
              "      <td>0.116592</td>\n",
              "      <td>0.008969</td>\n",
              "      <td>0.031390</td>\n",
              "      <td>0.246637</td>\n",
              "      <td>0.013453</td>\n",
              "      <td>0.439462</td>\n",
              "      <td>0.031390</td>\n",
              "      <td>0.022422</td>\n",
              "      <td>0.000000</td>\n",
              "    </tr>\n",
              "    <tr>\n",
              "      <th>ADP</th>\n",
              "      <td>0.000968</td>\n",
              "      <td>0.000000</td>\n",
              "      <td>0.097773</td>\n",
              "      <td>0.032914</td>\n",
              "      <td>0.043562</td>\n",
              "      <td>0.021297</td>\n",
              "      <td>0.343659</td>\n",
              "      <td>0.039690</td>\n",
              "      <td>0.005808</td>\n",
              "      <td>0.015489</td>\n",
              "      <td>0.079380</td>\n",
              "      <td>0.319458</td>\n",
              "    </tr>\n",
              "    <tr>\n",
              "      <th>NOUN</th>\n",
              "      <td>0.043062</td>\n",
              "      <td>0.042037</td>\n",
              "      <td>0.012987</td>\n",
              "      <td>0.022898</td>\n",
              "      <td>0.006152</td>\n",
              "      <td>0.177375</td>\n",
              "      <td>0.274094</td>\n",
              "      <td>0.227956</td>\n",
              "      <td>0.158237</td>\n",
              "      <td>0.017430</td>\n",
              "      <td>0.006494</td>\n",
              "      <td>0.011278</td>\n",
              "    </tr>\n",
              "    <tr>\n",
              "      <th>.</th>\n",
              "      <td>0.000935</td>\n",
              "      <td>0.046773</td>\n",
              "      <td>0.052385</td>\n",
              "      <td>0.016838</td>\n",
              "      <td>0.057998</td>\n",
              "      <td>0.091674</td>\n",
              "      <td>0.227315</td>\n",
              "      <td>0.053321</td>\n",
              "      <td>0.086997</td>\n",
              "      <td>0.057998</td>\n",
              "      <td>0.090739</td>\n",
              "      <td>0.216090</td>\n",
              "    </tr>\n",
              "    <tr>\n",
              "      <th>VERB</th>\n",
              "      <td>0.039604</td>\n",
              "      <td>0.003808</td>\n",
              "      <td>0.054836</td>\n",
              "      <td>0.223915</td>\n",
              "      <td>0.035796</td>\n",
              "      <td>0.100533</td>\n",
              "      <td>0.105864</td>\n",
              "      <td>0.028941</td>\n",
              "      <td>0.185834</td>\n",
              "      <td>0.089109</td>\n",
              "      <td>0.019040</td>\n",
              "      <td>0.112719</td>\n",
              "    </tr>\n",
              "    <tr>\n",
              "      <th>ADV</th>\n",
              "      <td>0.015291</td>\n",
              "      <td>0.012232</td>\n",
              "      <td>0.140673</td>\n",
              "      <td>0.048930</td>\n",
              "      <td>0.012232</td>\n",
              "      <td>0.131498</td>\n",
              "      <td>0.027523</td>\n",
              "      <td>0.110092</td>\n",
              "      <td>0.305810</td>\n",
              "      <td>0.085627</td>\n",
              "      <td>0.042813</td>\n",
              "      <td>0.067278</td>\n",
              "    </tr>\n",
              "    <tr>\n",
              "      <th>NUM</th>\n",
              "      <td>0.010989</td>\n",
              "      <td>0.019231</td>\n",
              "      <td>0.032967</td>\n",
              "      <td>0.214286</td>\n",
              "      <td>0.000000</td>\n",
              "      <td>0.049451</td>\n",
              "      <td>0.376374</td>\n",
              "      <td>0.104396</td>\n",
              "      <td>0.013736</td>\n",
              "      <td>0.002747</td>\n",
              "      <td>0.173077</td>\n",
              "      <td>0.002747</td>\n",
              "    </tr>\n",
              "    <tr>\n",
              "      <th>DET</th>\n",
              "      <td>0.001144</td>\n",
              "      <td>0.001144</td>\n",
              "      <td>0.240275</td>\n",
              "      <td>0.038902</td>\n",
              "      <td>0.003432</td>\n",
              "      <td>0.012586</td>\n",
              "      <td>0.605263</td>\n",
              "      <td>0.025172</td>\n",
              "      <td>0.030892</td>\n",
              "      <td>0.012586</td>\n",
              "      <td>0.022883</td>\n",
              "      <td>0.005721</td>\n",
              "    </tr>\n",
              "  </tbody>\n",
              "</table>\n",
              "</div>"
            ],
            "text/plain": [
              "           PRT      CONJ       ADJ  ...       ADV       NUM       DET\n",
              "PRT   0.000000  0.000000  0.068627  ...  0.009804  0.049020  0.140523\n",
              "CONJ  0.000000  0.000000  0.121359  ...  0.043689  0.024272  0.116505\n",
              "ADJ   0.007645  0.016820  0.068807  ...  0.007645  0.027523  0.007645\n",
              "X     0.166667  0.004673  0.021807  ...  0.026480  0.001558  0.049844\n",
              "PRON  0.017937  0.008969  0.062780  ...  0.031390  0.022422  0.000000\n",
              "ADP   0.000968  0.000000  0.097773  ...  0.015489  0.079380  0.319458\n",
              "NOUN  0.043062  0.042037  0.012987  ...  0.017430  0.006494  0.011278\n",
              ".     0.000935  0.046773  0.052385  ...  0.057998  0.090739  0.216090\n",
              "VERB  0.039604  0.003808  0.054836  ...  0.089109  0.019040  0.112719\n",
              "ADV   0.015291  0.012232  0.140673  ...  0.085627  0.042813  0.067278\n",
              "NUM   0.010989  0.019231  0.032967  ...  0.002747  0.173077  0.002747\n",
              "DET   0.001144  0.001144  0.240275  ...  0.012586  0.022883  0.005721\n",
              "\n",
              "[12 rows x 12 columns]"
            ]
          },
          "metadata": {
            "tags": []
          }
        }
      ]
    },
    {
      "cell_type": "code",
      "metadata": {
        "id": "k4Vl_DCe53QR"
      },
      "source": [
        "def Viterbi(words, train_bag = train_tagged_words):\n",
        "    state = []\n",
        "    T = list(set([pair[1] for pair in train_bag]))\n",
        "     \n",
        "    for key, word in enumerate(words):\n",
        "        #initialise list of probability column for a given observation\n",
        "        p = [] \n",
        "        for tag in T:\n",
        "            if key == 0:\n",
        "                transition_p = tags_df.loc['.', tag]\n",
        "            else:\n",
        "                transition_p = tags_df.loc[state[-1], tag]\n",
        "                 \n",
        "            # compute emission and state probabilities\n",
        "            emission_p = word_given_tag(words[key], tag)[0]/word_given_tag(words[key], tag)[1]\n",
        "            state_probability = emission_p * transition_p    \n",
        "            p.append(state_probability)\n",
        "             \n",
        "        pmax = max(p)\n",
        "        # getting state for which probability is maximum\n",
        "        state_max = T[p.index(pmax)] \n",
        "        state.append(state_max)\n",
        "    return list(zip(words, state))"
      ],
      "execution_count": 61,
      "outputs": []
    },
    {
      "cell_type": "code",
      "metadata": {
        "colab": {
          "base_uri": "https://localhost:8080/"
        },
        "id": "ChoJokZt55jh",
        "outputId": "553ac46b-c611-47da-ae96-cf067ab4a5c6"
      },
      "source": [
        "# Let's test our Viterbi algorithm on a few sample sentences of test dataset\n",
        "random.seed(500)      #define a random seed to get same sentences when run multiple times\n",
        " \n",
        "# choose random 10 numbers\n",
        "rndom = [random.randint(1,len(test_set)) for x in range(10)]\n",
        " \n",
        "# list of 10 sents on which we test the model\n",
        "test_sentences = [test_set[i] for i in rndom]\n",
        " \n",
        "# list of tagged words\n",
        "test_tagged_words = [tup for sent in test_sentences for tup in sent]\n",
        " \n",
        "# list of untagged words\n",
        "test_untagged_words = [tup[0] for sent in test_sentences for tup in sent]\n",
        "print (test_untagged_words)"
      ],
      "execution_count": 68,
      "outputs": [
        {
          "output_type": "stream",
          "text": [
            "['The', 'new', 'company', 'said', '0', 'it', 'believes', '0', 'there', 'are', 'fewer', 'than', '100', 'potential', 'customers', 'for', 'supercomputers', 'priced', '*', 'between', '$', '15', 'million', 'and', '$', '30', 'million', '*U*', '--', 'presumably', 'the', 'Cray-3', 'price', 'range', '.', 'The', 'move', 'leaves', 'United', 'Illuminating', 'Co.', 'and', 'Northeast', 'Utilities', 'as', 'the', 'remaining', 'outside', 'bidders', 'for', 'PS', 'of', 'New', 'Hampshire', ',', 'which', '*T*-1', 'also', 'has', 'proposed', 'an', 'internal', 'reorganization', 'plan', 'in', 'Chapter', '11', 'bankruptcy', 'proceedings', 'under', 'which', 'it', 'would', 'remain', 'an', 'independent', 'company', '*T*-2', '.', 'The', 'commission', 'is', 'expected', '*-1', 'to', 'rule', 'on', 'the', 'Braidwood', '2', 'case', 'by', 'year', 'end', '.', 'The', 'new', 'company', 'said', '0', 'it', 'believes', '0', 'there', 'are', 'fewer', 'than', '100', 'potential', 'customers', 'for', 'supercomputers', 'priced', '*', 'between', '$', '15', 'million', 'and', '$', '30', 'million', '*U*', '--', 'presumably', 'the', 'Cray-3', 'price', 'range', '.', 'He', 'will', 'continue', '*-1', 'to', 'report', 'to', 'Donald', 'Pardus', ',', 'president', 'and', 'chief', 'executive', 'officer', '.', 'Mr.', 'Spoon', 'said', '0', 'the', 'plan', 'is', 'not', 'an', 'attempt', '*', 'to', 'shore', 'up', 'a', 'decline', 'in', 'ad', 'pages', 'in', 'the', 'first', 'nine', 'months', 'of', '1989', ';', 'Newsweek', \"'s\", 'ad', 'pages', 'totaled', '1,620', ',', 'a', 'drop', 'of', '3.2', '%', 'from', 'last', 'year', ',', 'according', 'to', 'Publishers', 'Information', 'Bureau', '.', 'When', 'it', \"'s\", 'time', 'for', 'their', 'biannual', 'powwow', '*T*-1', ',', 'the', 'nation', \"'s\", 'manufacturing', 'titans', 'typically', 'jet', 'off', 'to', 'the', 'sunny', 'confines', 'of', 'resort', 'towns', 'like', 'Boca', 'Raton', 'and', 'Hot', 'Springs', '.', 'Documents', 'filed', '*', 'with', 'the', 'Securities', 'and', 'Exchange', 'Commission', 'on', 'the', 'pending', 'spinoff', 'disclosed', 'that', 'Cray', 'Research', 'Inc.', 'will', 'withdraw', 'the', 'almost', '$', '100', 'million', '*U*', 'in', 'financing', '0', 'it', 'is', 'providing', 'the', 'new', 'firm', '*T*-1', 'if', 'Mr.', 'Cray', 'leaves', 'or', 'if', 'the', 'product-design', 'project', '0', 'he', 'heads', '*T*-2', 'is', 'scrapped', '*-18', '.', 'For', '1988', ',', 'Commonwealth', 'Edison', 'reported', 'earnings', 'of', '$', '737.5', 'million', '*U*', ',', 'or', '$', '3.01', '*U*', 'a', 'share', '.', 'The', 'Treasury', 'said', '0', 'the', 'U.S.', 'will', 'default', 'on', 'Nov.', '9', 'if', 'Congress', 'does', \"n't\", 'act', 'by', 'then', '.']\n"
          ],
          "name": "stdout"
        }
      ]
    },
    {
      "cell_type": "code",
      "metadata": {
        "colab": {
          "base_uri": "https://localhost:8080/"
        },
        "id": "ZMz6zdIC5_al",
        "outputId": "7a4d0efc-68fd-4463-dbd4-03e89c2b59ac"
      },
      "source": [
        "#Here We will only test 10 sentences to check the accuracy\n",
        "#as testing the whole training set takes huge amount of time\n",
        "start = time.time()\n",
        "tagged_seq = Viterbi(test_untagged_words)\n",
        "end = time.time()\n",
        "difference = end-start\n",
        " \n",
        "print(\"Time taken in seconds: \", difference)\n"
      ],
      "execution_count": 69,
      "outputs": [
        {
          "output_type": "stream",
          "text": [
            "Time taken in seconds:  5.411680698394775\n"
          ],
          "name": "stdout"
        }
      ]
    },
    {
      "cell_type": "code",
      "metadata": {
        "colab": {
          "base_uri": "https://localhost:8080/"
        },
        "id": "E5k0V5b7t9aw",
        "outputId": "29940760-db5f-467b-d857-2acf7d386de0"
      },
      "source": [
        " # accuracy\n",
        "check = [i for i, j in zip(tagged_seq, test_run_base) if i == j] \n",
        " \n",
        "accuracy = len(check)/len(tagged_seq)\n",
        "print('Viterbi Algorithm Accuracy: ',accuracy*100)"
      ],
      "execution_count": 70,
      "outputs": [
        {
          "output_type": "stream",
          "text": [
            "Viterbi Algorithm Accuracy:  83.07210031347962\n"
          ],
          "name": "stdout"
        }
      ]
    },
    {
      "cell_type": "code",
      "metadata": {
        "colab": {
          "base_uri": "https://localhost:8080/"
        },
        "id": "V7nVdFPT6RJu",
        "outputId": "2ad66c78-890a-4906-c453-48c38890b5e2"
      },
      "source": [
        "#Code to test all the test sentences\n",
        "\n",
        "test_tagged_words = [tup for sent in test_set for tup in sent]\n",
        "test_untagged_words = [tup[0] for sent in test_set for tup in sent]\n",
        "print (test_untagged_words)"
      ],
      "execution_count": 71,
      "outputs": [
        {
          "output_type": "stream",
          "text": [
            "['``', 'The', 'morbidity', 'rate', 'is', 'a', 'striking', 'finding', 'among', 'those', 'of', 'us', 'who', '*T*-5', 'study', 'asbestos-related', 'diseases', ',', \"''\", 'said', '*T*-1', 'Dr.', 'Talcott', '.', 'Coincident', 'with', 'the', 'talks', ',', 'the', 'State', 'Department', 'said', '0', 'it', 'has', 'permitted', 'a', 'Soviet', 'bank', 'to', 'open', 'a', 'New', 'York', 'branch', '.', 'Newsweek', 'said', '0', 'it', 'will', 'introduce', 'the', 'Circulation', 'Credit', 'Plan', ',', 'which', '*T*-1', 'awards', 'space', 'credits', '*ICH*-2', 'to', 'advertisers', 'on', '``', 'renewal', 'advertising', '.', \"''\", 'The', 'asbestos', 'fiber', ',', 'crocidolite', ',', 'is', 'unusually', 'resilient', 'once', 'it', 'enters', 'the', 'lungs', ',', 'with', 'even', 'brief', 'exposures', 'to', 'it', 'causing', 'symptoms', 'that', '*T*-1', 'show', 'up', 'decades', 'later', ',', 'researchers', 'said', '0', '*T*-2', '.', 'Last', 'year', 'Commonwealth', 'Edison', 'had', '*-1', 'to', 'refund', '$', '72.7', 'million', '*U*', 'for', 'poor', 'performance', 'of', 'its', 'LaSalle', 'I', 'nuclear', 'plant', '.', '``', 'I', \"'m\", 'very', 'alarmed', '*-2', 'to', 'see', 'these', 'rich', 'valuations', ',', \"''\", 'says', '*T*-1', 'Smith', 'Barney', \"'s\", 'Mr.', 'Porter', '.', 'It', 'has', 'no', 'bearing', 'on', 'our', 'work', 'force', 'today', '.', 'Mr.', 'Stevens', 'was', 'executive', 'vice', 'president', 'of', 'this', 'electric-utility', 'holding', 'company', '.', 'After', 'the', 'race', ',', 'Fortune', '500', 'executives', 'drooled', 'like', 'schoolboys', 'over', 'the', 'cars', 'and', 'drivers', '.', 'Only', '19', '%', 'of', 'the', 'purchasing', 'managers', 'reported', 'better', 'export', 'orders', 'in', 'October', ',', 'down', 'from', '27', '%', 'in', 'September', '.', 'It', 'said', '0', 'the', 'man', ',', 'whom', 'it', 'did', 'not', 'name', '*T*-63', ',', 'had', 'been', 'found', '*-1', 'to', 'have', 'the', 'disease', 'after', 'hospital', 'tests', '.', 'In', 'Malaysia', ',', 'Siti', 'Zaharah', 'Sulaiman', ',', 'a', 'deputy', 'minister', 'in', 'the', 'prime', 'minister', \"'s\", 'office', ',', 'launched', 'a', '``', 'No-Smoking', 'Week', \"''\", 'at', 'the', 'Mara', 'Institute', 'of', 'Technology', 'near', 'Kuala', 'Lumpur', 'and', 'urged', 'other', 'schools', '*-1', 'to', 'ban', 'on-campus', 'smoking', '.', 'From', 'January', 'to', 'October', ',', 'the', 'nation', \"'s\", 'accumulated', 'exports', 'increased', '4', '%', 'from', 'the', 'same', 'period', 'last', 'year', 'to', '$', '50.45', 'billion', '*U*', '.', 'They', 'argue', 'that', 'U.S.', 'investors', 'often', 'can', 'buy', 'American', 'depositary', 'receipts', 'on', 'the', 'big', 'stocks', 'in', 'many', 'funds', ';', 'these', 'so-called', 'ADRs', 'represent', 'shares', 'of', 'foreign', 'companies', 'traded', '*', 'in', 'the', 'U.S.', '.', 'Clark', 'J.', 'Vitulli', 'was', 'named', '*-12', 'senior', 'vice', 'president', '*RNR*-1', 'and', 'general', 'manager', '*RNR*-1', 'of', 'this', 'U.S.', 'sales', 'and', 'marketing', 'arm', 'of', 'Japanese', 'auto', 'maker', 'Mazda', 'Motor', 'Corp', '.', 'The', 'average', 'maturity', 'for', 'funds', 'open', 'only', 'to', 'institutions', ',', 'considered', 'by', 'some', '*', 'to', 'be', 'a', 'stronger', 'indicator', 'because', 'those', 'managers', 'watch', 'the', 'market', 'closely', ',', 'reached', 'a', 'high', 'point', 'for', 'the', 'year', '--', '33', 'days', '.', 'But', 'the', 'Soviets', 'might', 'still', 'face', 'legal', 'obstacles', 'to', '*', 'raising', 'money', 'in', 'the', 'U.S.', 'until', 'they', 'settle', 'hundreds', 'of', 'millions', 'of', 'dollars', 'in', 'additional', 'debt', 'still', 'outstanding', 'from', 'the', 'World', 'War', 'II', 'lend-lease', 'program', '.', '``', 'Argentina', 'aspires', '*-2', 'to', 'reach', 'a', 'reduction', 'of', '50', '%', 'in', 'the', 'value', 'of', 'its', 'external', 'debt', ',', \"''\", 'Mr.', 'Rapanelli', 'said', '*T*-1', 'through', 'his', 'spokesman', ',', 'Miguel', 'Alurralde', '.', 'The', 'announcement', 'follows', 'a', 'sharper', '$', '2.2', 'billion', '*U*', 'decline', 'in', 'the', 'country', \"'s\", 'foreign', 'reserves', 'in', 'September', 'to', '$', '86.12', 'billion', '*U*', '.', 'Although', '*-2', 'set', '*-1', 'in', 'Japan', ',', 'the', 'novel', \"'s\", 'texture', 'is', 'almost', 'entirely', 'Western', ',', 'especially', 'American', '.', 'Dr.', 'Talcott', 'led', 'a', 'team', 'of', 'researchers', 'from', 'the', 'National', 'Cancer', 'Institute', 'and', 'the', 'medical', 'schools', 'of', 'Harvard', 'University', 'and', 'Boston', 'University', '.', 'He', 'was', 'previously', 'vice', 'president', '.', 'Analysts', 'said', '0', 'Mr.', 'Stronach', 'wants', '*-1', 'to', 'resume', 'a', 'more', 'influential', 'role', 'in', '*', 'running', 'the', 'company', '.', 'That', 'year', 'the', 'Apple', 'II', ',', 'Commodore', 'Pet', 'and', 'Tandy', 'TRS-80', 'came', 'to', 'market', '.', '-LRB-', 'During', 'its', 'centennial', 'year', ',', 'The', 'Wall', 'Street', 'Journal', 'will', 'report', 'events', 'of', 'the', 'past', 'century', 'that', '*T*-30', 'stand', 'as', 'milestones', 'of', 'American', 'business', 'history', '.', '-RRB-', '``', 'I', 'draw', 'a', 'blank', '.', \"''\", 'But', 'other', 'than', 'the', 'fact', 'that', 'besuboru', 'is', 'played', '*-1', 'with', 'a', 'ball', 'and', 'a', 'bat', ',', 'it', \"'s\", 'unrecognizable', ':', 'Fans', 'politely', 'return', 'foul', 'balls', 'to', 'stadium', 'ushers', ';', 'the', 'strike', 'zone', 'expands', 'depending', 'on', 'the', 'size', 'of', 'the', 'hitter', ';', 'ties', 'are', 'permitted', '*-2', '--', 'even', 'welcomed', '*-2', '--', 'since', 'they', 'honorably', 'sidestep', 'the', 'shame', 'of', 'defeat', ';', 'players', 'must', 'abide', 'by', 'strict', 'rules', 'of', 'conduct', 'even', 'in', 'their', 'personal', 'lives', '--', 'players', 'for', 'the', 'Tokyo', 'Giants', ',', 'for', 'example', ',', 'must', 'always', 'wear', 'ties', 'when', 'on', 'the', 'road', '.', 'It', \"'s\", 'the', 'latest', 'investment', 'craze', 'sweeping', 'Wall', 'Street', ':', 'a', 'rash', 'of', 'new', 'closed-end', 'country', 'funds', ',', 'those', 'publicly', 'traded', 'portfolios', 'that', '*T*-37', 'invest', 'in', 'stocks', 'of', 'a', 'single', 'foreign', 'country', '.', 'The', 'Treasury', 'said', '0', 'the', 'U.S.', 'will', 'default', 'on', 'Nov.', '9', 'if', 'Congress', 'does', \"n't\", 'act', 'by', 'then', '.', 'Financial', 'planners', 'often', 'urge', 'investors', '*-1', 'to', 'diversify', 'and', 'to', 'hold', 'a', 'smattering', 'of', 'international', 'securities', '.', 'The', 'percentage', 'of', 'lung', 'cancer', 'deaths', 'among', 'the', 'workers', 'at', 'the', 'West', 'Groton', ',', 'Mass.', ',', 'paper', 'factory', 'appears', '*-1', 'to', 'be', 'the', 'highest', 'for', 'any', 'asbestos', 'workers', 'studied', '*', 'in', 'Western', 'industrialized', 'countries', ',', 'he', 'said', '0', '*T*-2', '.', 'Faulding', 'said', '0', 'it', 'owns', '33', '%', 'of', 'Moleculon', \"'s\", 'voting', 'stock', 'and', 'has', 'an', 'agreement', '*', 'to', 'acquire', 'an', 'additional', '19', '%', '.', 'The', 'declaration', 'by', 'Economy', 'Minister', 'Nestor', 'Rapanelli', 'is', 'believed', '*-1', 'to', 'be', 'the', 'first', 'time', '0', 'such', 'an', 'action', 'has', 'been', 'called', 'for', '*-3', 'by', 'an', 'Argentine', 'official', 'of', 'such', 'stature', '*T*-2', '.', 'He', 'will', 'continue', '*-1', 'to', 'report', 'to', 'Donald', 'Pardus', ',', 'president', 'and', 'chief', 'executive', 'officer', '.', '``', 'It', 'has', '*-2', 'to', 'be', 'considered', '*-21', 'as', 'an', 'additional', 'risk', 'for', 'the', 'investor', ',', \"''\", 'said', '*T*-1', 'Gary', 'P.', 'Smaby', 'of', 'Smaby', 'Group', 'Inc.', ',', 'Minneapolis', '.', 'Magna', 'International', 'Inc.', \"'s\", 'chief', 'financial', 'officer', ',', 'James', 'McAlpine', ',', 'resigned', 'and', 'its', 'chairman', ',', 'Frank', 'Stronach', ',', 'is', 'stepping', 'in', '*-1', 'to', 'help', 'turn', 'the', 'automotive-parts', 'manufacturer', 'around', ',', 'the', 'company', 'said', '0', '*T*-2', '.', '``', 'But', 'you', 'have', '*-1', 'to', 'recognize', 'that', 'these', 'events', 'took', 'place', '35', 'years', 'ago', '.', '``', 'Wa', \"''\", 'is', 'Japanese', 'for', '``', 'team', 'spirit', \"''\", 'and', 'Japanese', 'ballplayers', 'have', 'miles', 'and', 'miles', 'of', 'it', '.', 'It', '*EXP*-1', \"'s\", 'a', 'shame', '0', 'their', 'meeting', 'never', 'took', 'place', '.', '``', 'What', 'this', 'tells', 'us', '*T*-28', 'is', 'that', 'U.S.', 'trade', 'law', 'is', 'working', ',', \"''\", 'he', 'said', '*T*-1', '.', 'The', 'rest', 'went', 'to', 'investors', 'from', 'France', 'and', 'Hong', 'Kong', '.', 'They', 'read', 'Mickey', 'Spillane', 'and', 'talk', 'about', 'Groucho', 'and', 'Harpo', '.', 'Spending', 'on', 'private', ',', 'nonresidential', 'construction', 'was', 'off', '2.6', '%', 'to', 'an', 'annual', 'rate', 'of', '$', '99.1', 'billion', '*U*', 'with', 'no', 'sector', 'showing', 'strength', '.', 'South', 'Korea', 'registered', 'a', 'trade', 'deficit', 'of', '$', '101', 'million', '*U*', 'in', 'October', ',', '*', 'reflecting', 'the', 'country', \"'s\", 'economic', 'sluggishness', ',', 'according', 'to', 'government', 'figures', 'released', '*', 'Wednesday', '.', 'Italian', 'chemical', 'giant', 'Montedison', 'S.p.A.', ',', 'through', 'its', 'Montedison', 'Acquisition', 'N.V.', 'indirect', 'unit', ',', 'began', 'its', '$', '37-a-share', '*U*', 'tender', 'offer', 'for', 'all', 'the', 'common', 'shares', 'outstanding', 'of', 'Erbamont', 'N.V.', ',', 'a', 'maker', 'of', 'pharmaceuticals', 'incorporated', '*', 'in', 'the', 'Netherlands', '.', 'Alan', 'Spoon', ',', 'recently', 'named', '*', 'Newsweek', 'president', ',', 'said', '0', 'Newsweek', \"'s\", 'ad', 'rates', 'would', 'increase', '5', '%', 'in', 'January', '.', 'But', 'Sony', 'ultimately', 'took', 'a', 'lesson', 'from', 'the', 'American', 'management', 'books', 'and', 'fired', 'Mr.', 'Katzenstein', ',', 'after', 'he', 'committed', 'the', 'social', 'crime', 'of', '*', 'making', 'an', 'appointment', '*', 'to', 'see', 'the', 'venerable', 'Akio', 'Morita', ',', 'founder', 'of', 'Sony', '.', 'The', 'new', ',', 'seven-year', 'funds', '--', 'one', 'offering', 'a', 'fixed-rate', 'return', 'and', 'the', 'other', 'with', 'a', 'floating-rate', 'return', 'linked', '*', 'to', 'the', 'London', 'interbank', 'offered', 'rate', '--', 'offer', 'two', 'key', 'advantages', 'to', 'Japanese', 'investors', '.', 'Mr.', 'Stronach', ',', 'founder', 'and', 'controlling', 'shareholder', 'of', 'Magna', ',', 'resigned', 'as', 'chief', 'executive', 'officer', 'last', 'year', '*-1', 'to', 'seek', ',', 'unsuccessfully', ',', 'a', 'seat', 'in', 'Canada', \"'s\", 'Parliament', '.', 'For', '1988', ',', 'Commonwealth', 'Edison', 'reported', 'earnings', 'of', '$', '737.5', 'million', '*U*', ',', 'or', '$', '3.01', '*U*', 'a', 'share', '.', 'Dodge', 'reported', 'an', '8', '%', 'increase', 'in', 'construction', 'contracts', 'awarded', '*', 'in', 'September', '.', 'PS', 'of', 'New', 'Hampshire', 'shares', 'closed', 'yesterday', 'at', '$', '3.75', '*U*', ',', 'off', '25', 'cents', ',', 'in', 'New', 'York', 'Stock', 'Exchange', 'composite', 'trading', '.', 'Those', 'countries', '--', 'including', 'Japan', ',', 'Italy', ',', 'Canada', ',', 'Greece', 'and', 'Spain', '--', 'are', 'still', 'of', 'some', 'concern', 'to', 'the', 'U.S.', 'but', 'are', 'deemed', '*-1', 'to', 'pose', 'less-serious', 'problems', 'for', 'American', 'patent', 'and', 'copyright', 'owners', 'than', 'those', 'on', 'the', '``', 'priority', \"''\", 'list', '.', 'Rudolph', 'Agnew', ',', '55', 'years', 'old', 'and', 'former', 'chairman', 'of', 'Consolidated', 'Gold', 'Fields', 'PLC', ',', 'was', 'named', '*-1', 'a', 'nonexecutive', 'director', 'of', 'this', 'British', 'industrial', 'conglomerate', '.', 'Meanwhile', ',', 'the', 'National', 'Association', 'of', 'Purchasing', 'Management', 'said', '0', 'its', 'latest', 'survey', 'indicated', 'that', 'the', 'manufacturing', 'economy', 'contracted', 'in', 'October', 'for', 'the', 'sixth', 'consecutive', 'month', '.', '*', 'Judging', 'from', 'the', 'Americana', 'in', 'Haruki', 'Murakami', \"'s\", '``', 'A', 'Wild', 'Sheep', 'Chase', \"''\", '-LRB-', 'Kodansha', ',', '320', 'pages', ',', '$', '18.95', '*U*', '-RRB-', ',', 'baby', 'boomers', 'on', 'both', 'sides', 'of', 'the', 'Pacific', 'have', 'a', 'lot', 'in', 'common', '.', 'The', 'new', 'ad', 'plan', 'from', 'Newsweek', ',', 'a', 'unit', 'of', 'the', 'Washington', 'Post', 'Co.', ',', 'is', 'the', 'second', 'incentive', 'plan', '0', 'the', 'magazine', 'has', 'offered', 'advertisers', '*T*-1', 'in', 'three', 'years', '.', 'She', 'said', '0', 'there', 'is', '``', 'growing', 'realization', '*ICH*-1', \"''\", 'around', 'the', 'world', 'that', 'denial', 'of', 'intellectual-property', 'rights', 'harms', 'all', 'trading', 'nations', ',', 'and', 'particularly', 'the', '``', 'creativity', 'and', 'inventiveness', 'of', 'an', '-LCB-', 'offending', '-RCB-', 'country', \"'s\", 'own', 'citizens', '.', \"''\", 'No', 'price', 'for', 'the', 'new', 'shares', 'has', 'been', 'set', '*-23', '.', 'There', 'were', 'many', 'pioneer', 'PC', 'contributors', '.', 'The', 'new', 'company', 'said', '0', 'it', 'believes', '0', 'there', 'are', 'fewer', 'than', '100', 'potential', 'customers', 'for', 'supercomputers', 'priced', '*', 'between', '$', '15', 'million', 'and', '$', '30', 'million', '*U*', '--', 'presumably', 'the', 'Cray-3', 'price', 'range', '.', 'All', 'came', 'from', 'Cray', 'Research', '.', 'Japan', \"'s\", 'domestic', 'sales', 'of', 'cars', ',', 'trucks', 'and', 'buses', 'in', 'October', 'rose', '18', '%', 'from', 'a', 'year', 'earlier', 'to', '500,004', 'units', ',', 'a', 'record', 'for', 'the', 'month', ',', 'the', 'Japan', 'Automobile', 'Dealers', \"'\", 'Association', 'said', '0', '*T*-1', '.', 'When', 'demand', 'is', 'stronger', 'than', 'suppliers', 'can', 'handle', '*T*-1', 'and', 'delivery', 'times', 'lengthen', '*T*-1', ',', 'prices', 'tend', '*-2', 'to', 'rise', '.', '``', 'People', 'are', 'looking', '*-1', 'to', 'stake', 'their', 'claims', \"''\", 'now', 'before', 'the', 'number', 'of', 'available', 'nations', 'runs', 'out', ',', 'says', '*T*-2', 'Michael', 'Porter', ',', 'an', 'analyst', 'at', 'Smith', 'Barney', ',', 'Harris', 'Upham', '&', 'Co.', ',', 'New', 'York', '.', 'The', 'exact', 'amount', 'of', 'the', 'refund', 'will', 'be', 'determined', '*-16', 'next', 'year', 'based', 'on', 'actual', 'collections', 'made', '*', 'until', 'Dec.', '31', 'of', 'this', 'year', '.', 'Pro-forma', 'balance', 'sheets', 'clearly', 'show', 'why', 'Cray', 'Research', 'favored', 'the', 'spinoff', '*T*-1', '.', 'Saudi', 'Arabia', ',', 'for', 'its', 'part', ',', 'has', 'vowed', '*-2', 'to', 'enact', 'a', 'copyright', 'law', 'compatible', 'with', 'international', 'standards', 'and', '*-2', 'to', 'apply', 'the', 'law', 'to', 'computer', 'software', 'as', 'well', 'as', 'to', 'literary', 'works', ',', 'Mrs.', 'Hills', 'said', '0', '*T*-1', '.', 'The', 'move', 'leaves', 'United', 'Illuminating', 'Co.', 'and', 'Northeast', 'Utilities', 'as', 'the', 'remaining', 'outside', 'bidders', 'for', 'PS', 'of', 'New', 'Hampshire', ',', 'which', '*T*-1', 'also', 'has', 'proposed', 'an', 'internal', 'reorganization', 'plan', 'in', 'Chapter', '11', 'bankruptcy', 'proceedings', 'under', 'which', 'it', 'would', 'remain', 'an', 'independent', 'company', '*T*-2', '.', 'Commonwealth', 'Edison', 'said', '0', 'it', 'is', 'already', 'appealing', 'the', 'underlying', 'commission', 'order', 'and', 'is', 'considering', '*-1', 'appealing', 'Judge', 'Curry', \"'s\", 'order', '.', 'Separately', ',', 'the', 'Federal', 'Energy', 'Regulatory', 'Commission', 'turned', 'down', 'for', 'now', 'a', 'request', 'by', 'Northeast', 'seeking', 'approval', 'of', 'its', 'possible', 'purchase', 'of', 'PS', 'of', 'New', 'Hampshire', '.', 'The', 'documents', 'also', 'said', 'that', 'Cray', 'Computer', 'anticipates', '*-1', 'needing', 'perhaps', 'another', '$', '120', 'million', '*U*', 'in', 'financing', 'beginning', 'next', 'September', '.', 'In', '*-2', 'ending', 'Hungary', \"'s\", 'part', 'of', 'the', 'project', ',', 'Parliament', 'authorized', 'Prime', 'Minister', 'Miklos', 'Nemeth', 'to', 'modify', 'a', '1977', 'agreement', 'with', 'Czechoslovakia', ',', 'which', '*T*-64', 'still', 'wants', 'the', 'dam', 'to', 'be', 'built', '*-1', '.', 'Reserves', 'for', 'the', 'five', 'new', 'fields', 'total', '50', 'million', 'barrels', '.', 'Esso', 'Australia', 'Ltd.', ',', 'a', 'unit', 'of', 'New', 'York-based', 'Exxon', 'Corp.', ',', 'and', 'Broken', 'Hill', 'Pty.', 'operate', 'the', 'fields', 'in', 'a', 'joint', 'venture', '.', 'The', 'commission', 'is', 'expected', '*-1', 'to', 'rule', 'on', 'the', 'Braidwood', '2', 'case', 'by', 'year', 'end', '.', 'The', 'average', 'seven-day', 'simple', 'yield', 'of', 'the', '400', 'funds', 'was', '8.12', '%', ',', 'down', 'from', '8.14', '%', '.', 'Magna', 'said', '0', 'Mr.', 'McAlpine', 'resigned', '*-1', 'to', 'pursue', 'a', 'consulting', 'career', ',', 'with', 'Magna', 'as', 'one', 'of', 'his', 'clients', '.', 'Factory', 'shipments', 'fell', '1.6', '%', 'to', '$', '234.4', 'billion', '*U*', 'after', '*', 'rising', '5.4', '%', 'in', 'August', '.', 'In', 'July', ',', 'the', 'Environmental', 'Protection', 'Agency', 'imposed', 'a', 'gradual', 'ban', 'on', 'virtually', 'all', 'uses', 'of', 'asbestos', '.', 'Dennis', 'Hayes', 'and', 'Dale', 'Heatherington', ',', 'two', 'Atlanta', 'engineers', ',', 'were', 'co-developers', 'of', 'the', 'internal', 'modems', 'that', '*T*-33', 'allow', 'PCs', 'to', 'share', 'data', 'via', 'the', 'telephone', '.', 'The', 'White', 'House', 'said', '0', 'Mr.', 'Bush', 'decided', '*-1', 'to', 'grant', 'duty-free', 'status', 'for', '18', 'categories', ',', 'but', 'turned', 'down', 'such', 'treatment', 'for', 'other', 'types', 'of', 'watches', '``', 'because', 'of', 'the', 'potential', 'for', 'material', 'injury', 'to', 'watch', 'producers', 'located', '*', 'in', 'the', 'U.S.', 'and', 'the', 'Virgin', 'Islands', '.', \"''\", 'Mr.', 'Spoon', 'said', '0', 'the', 'plan', 'is', 'not', 'an', 'attempt', '*', 'to', 'shore', 'up', 'a', 'decline', 'in', 'ad', 'pages', 'in', 'the', 'first', 'nine', 'months', 'of', '1989', ';', 'Newsweek', \"'s\", 'ad', 'pages', 'totaled', '1,620', ',', 'a', 'drop', 'of', '3.2', '%', 'from', 'last', 'year', ',', 'according', 'to', 'Publishers', 'Information', 'Bureau', '.', 'We', \"'re\", 'talking', 'about', 'years', 'ago', 'before', 'anyone', 'heard', 'of', 'asbestos', 'having', 'any', 'questionable', 'properties', '.', 'This', 'is', 'Japan', '?', 'John', 'Rowe', ',', 'president', '*RNR*-1', 'and', 'chief', 'executive', 'officer', '*RNR*-1', 'of', 'New', 'England', 'Electric', ',', 'said', '0', 'the', 'company', \"'s\", 'return', 'on', 'equity', 'could', 'suffer', 'if', 'it', 'made', 'a', 'higher', 'bid', 'and', 'its', 'forecasts', 'related', '*', 'to', 'PS', 'of', 'New', 'Hampshire', '--', 'such', 'as', 'growth', 'in', 'electricity', 'demand', 'and', 'improved', 'operating', 'efficiencies', '--', 'did', \"n't\", 'come', 'true', '.', 'Analysts', 'noted', 'yesterday', 'that', 'Cray', 'Research', \"'s\", 'decision', '*', 'to', 'link', 'its', '$', '98.3', 'million', '*U*', 'promissory', 'note', 'to', 'Mr.', 'Cray', \"'s\", 'presence', 'will', 'complicate', 'a', 'valuation', 'of', 'the', 'new', 'company', '.', 'Shorter', 'maturities', 'are', 'considered', '*-9', 'a', 'sign', 'of', 'rising', 'rates', 'because', 'portfolio', 'managers', 'can', 'capture', 'higher', 'rates', 'sooner', '.', 'The', 'spinoff', 'also', 'will', 'compete', 'with', 'International', 'Business', 'Machines', 'Corp.', 'and', 'Japan', \"'s\", 'Big', 'Three', '--', 'Hitachi', 'Ltd.', ',', 'NEC', 'Corp.', 'and', 'Fujitsu', 'Ltd', '.', 'And', 'several', 'new', 'funds', 'that', '*T*-44', 'are', \"n't\", 'even', 'fully', 'invested', 'yet', 'have', 'jumped', '*-1', 'to', 'trade', 'at', 'big', 'premiums', '.', 'Documents', 'filed', '*', 'with', 'the', 'Securities', 'and', 'Exchange', 'Commission', 'on', 'the', 'pending', 'spinoff', 'disclosed', 'that', 'Cray', 'Research', 'Inc.', 'will', 'withdraw', 'the', 'almost', '$', '100', 'million', '*U*', 'in', 'financing', '0', 'it', 'is', 'providing', 'the', 'new', 'firm', '*T*-1', 'if', 'Mr.', 'Cray', 'leaves', 'or', 'if', 'the', 'product-design', 'project', '0', 'he', 'heads', '*T*-2', 'is', 'scrapped', '*-18', '.', 'If', 'the', 'debts', 'are', 'repaid', '*-49', ',', 'it', 'could', 'clear', 'the', 'way', '0', 'for', 'Soviet', 'bonds', 'to', 'be', 'sold', '*-50', 'in', 'the', 'U.S.', '*T*-1', '.', 'For', 'the', 'first', 'nine', 'months', 'of', 'the', 'year', ',', 'total', 'construction', 'spending', 'ran', 'about', '2', '%', 'above', 'last', 'year', \"'s\", 'level', '.', '``', 'Funny', 'Business', \"''\", '-LRB-', 'Soho', ',', '228', 'pages', ',', '$', '17.95', '*U*', '-RRB-', 'by', 'Gary', 'Katzenstein', 'is', 'anything', 'but', '*?*', '.', 'He', 'said', 'that', 'for', 'the', 'second', 'month', 'in', 'a', 'row', ',', 'food', 'processors', 'reported', 'a', 'shortage', 'of', 'nonfat', 'dry', 'milk', '.', 'They', 'will', 'remain', 'on', 'a', 'lower-priority', 'list', 'that', '*T*-27', 'includes', '17', 'other', 'countries', '.', 'In', 'its', 'construction', 'spending', 'report', ',', 'the', 'Commerce', 'Department', 'said', '0', 'residential', 'construction', ',', 'which', '*T*-50', 'accounts', 'for', 'nearly', 'half', 'of', 'all', 'construction', 'spending', ',', 'was', 'off', '0.9', '%', '*ICH*-3', 'in', 'September', 'to', 'an', 'annual', 'rate', 'of', '$', '191.9', 'billion', '*U*', '.', 'When', 'it', \"'s\", 'time', 'for', 'their', 'biannual', 'powwow', '*T*-1', ',', 'the', 'nation', \"'s\", 'manufacturing', 'titans', 'typically', 'jet', 'off', 'to', 'the', 'sunny', 'confines', 'of', 'resort', 'towns', 'like', 'Boca', 'Raton', 'and', 'Hot', 'Springs', '.', 'He', 'said', '0', 'Mexico', 'could', 'be', 'one', 'of', 'the', 'next', 'countries', '0', '*T*-1', 'to', 'be', 'removed', '*-2', 'from', 'the', 'priority', 'list', 'because', 'of', 'its', 'efforts', '*', 'to', 'craft', 'a', 'new', 'patent', 'law', '.', 'The', 'U.S.', ',', '*-1', 'claiming', 'some', 'success', 'in', 'its', 'trade', 'diplomacy', ',', 'removed', 'South', 'Korea', ',', 'Taiwan', 'and', 'Saudi', 'Arabia', 'from', 'a', 'list', 'of', 'countries', '0', 'it', 'is', 'closely', 'watching', '*T*-2', 'for', '*', 'allegedly', 'failing', '*-3', 'to', 'honor', 'U.S.', 'patents', ',', 'copyrights', 'and', 'other', 'intellectual-property', 'rights', '.']\n"
          ],
          "name": "stdout"
        }
      ]
    },
    {
      "cell_type": "code",
      "metadata": {
        "colab": {
          "base_uri": "https://localhost:8080/"
        },
        "id": "R3YFF8388MKW",
        "outputId": "dd37bbae-794c-46ca-dd73-51daa8118688"
      },
      "source": [
        "start = time.time()\n",
        "model_predicted_output = Viterbi(test_untagged_words)\n",
        "end = time.time()\n",
        "difference = end-start\n",
        " \n",
        "print(\"Time taken in seconds: \", difference)"
      ],
      "execution_count": 72,
      "outputs": [
        {
          "output_type": "stream",
          "text": [
            "Time taken in seconds:  44.29931950569153\n"
          ],
          "name": "stdout"
        }
      ]
    },
    {
      "cell_type": "code",
      "metadata": {
        "id": "QhsT1KGx9TN_"
      },
      "source": [
        "# accuracy\n",
        "check = [i for i, j in zip(test_tagged_words, model_predicted_output) if i == j] "
      ],
      "execution_count": 77,
      "outputs": []
    },
    {
      "cell_type": "code",
      "metadata": {
        "colab": {
          "base_uri": "https://localhost:8080/"
        },
        "id": "iOp0WcRO-ROe",
        "outputId": "f3447d67-a989-4e83-daac-a7a3cb116d66"
      },
      "source": [
        "len(check) # checcking lenth of all corrected tagged words\n",
        "len(model_predicted_output) # checking length of all model_output"
      ],
      "execution_count": 78,
      "outputs": [
        {
          "output_type": "execute_result",
          "data": {
            "text/plain": [
              "2653"
            ]
          },
          "metadata": {
            "tags": []
          },
          "execution_count": 78
        }
      ]
    },
    {
      "cell_type": "code",
      "metadata": {
        "colab": {
          "base_uri": "https://localhost:8080/"
        },
        "id": "0jRxaRamNz8q",
        "outputId": "19e47641-1cec-4095-ea16-b0ccb3996cee"
      },
      "source": [
        "accuracy = len(check)/len(model_predicted_output)\n",
        "print('Viterbi Algorithm Accuracy: ',accuracy*100)"
      ],
      "execution_count": 79,
      "outputs": [
        {
          "output_type": "stream",
          "text": [
            "Viterbi Algorithm Accuracy:  79.41952506596306\n"
          ],
          "name": "stdout"
        }
      ]
    },
    {
      "cell_type": "code",
      "metadata": {
        "id": "wpEXF2fgJ_VF"
      },
      "source": [
        "#modified Viterbi to include rule based tagger in it\n",
        "def Viterbi_rule_based(words, train_bag = train_tagged_words):\n",
        "    state = []\n",
        "    T = list(set([pair[1] for pair in train_bag]))\n",
        "     \n",
        "    for key, word in enumerate(words):\n",
        "        #initialise list of probability column for a given observation\n",
        "        p = [] \n",
        "        for tag in T:\n",
        "            if key == 0:\n",
        "                transition_p = tags_df.loc['.', tag]\n",
        "            else:\n",
        "                transition_p = tags_df.loc[state[-1], tag]\n",
        "                 \n",
        "            # compute emission and state probabilities\n",
        "            emission_p = word_given_tag(words[key], tag)[0]/word_given_tag(words[key], tag)[1]\n",
        "            state_probability = emission_p * transition_p    \n",
        "            p.append(state_probability)\n",
        "             \n",
        "        pmax = max(p)\n",
        "        state_max = rule_based_tagger.tag([word])[0][1]\n",
        "        if(pmax==0):\n",
        "            state_max = rule_based_tagger.tag([word])[0][1] # assign based on rule based tagger\n",
        "        else:\n",
        "            if state_max != 'X':\n",
        "                # getting state for which probability is maximum\n",
        "                state_max = T[p.index(pmax)]                \n",
        "             \n",
        "         \n",
        "        state.append(state_max)\n",
        "    return list(zip(words, state))      "
      ],
      "execution_count": 24,
      "outputs": []
    },
    {
      "cell_type": "code",
      "metadata": {
        "colab": {
          "base_uri": "https://localhost:8080/"
        },
        "id": "T4SAaSNGKPlF",
        "outputId": "469ab4cf-7a8f-41b7-8de3-3476a42a81ad"
      },
      "source": [
        "#test accuracy on subset of test data \n",
        "start = time.time()\n",
        "tagged_seq = Viterbi_rule_based(test_untagged_words)\n",
        "end = time.time()\n",
        "difference = end-start\n",
        " \n",
        "print(\"Time taken in seconds: \", difference)"
      ],
      "execution_count": 25,
      "outputs": [
        {
          "output_type": "stream",
          "text": [
            "Time taken in seconds:  44.171035051345825\n"
          ],
          "name": "stdout"
        }
      ]
    },
    {
      "cell_type": "code",
      "metadata": {
        "id": "iJX6jSC4KTbf"
      },
      "source": [
        "# accuracy\n",
        "check = [i for i, j in zip(tagged_seq, test_tagged_words) if i == j] "
      ],
      "execution_count": 85,
      "outputs": []
    },
    {
      "cell_type": "code",
      "metadata": {
        "colab": {
          "base_uri": "https://localhost:8080/"
        },
        "id": "MAc1XQZTLTq7",
        "outputId": "44f649ec-519a-4c92-f719-a623bc755a42"
      },
      "source": [
        "accuracy = len(check)/len(tagged_seq)\n",
        "accuracy\n",
        "#print('Viterbi Algorithm Accuracy: ',accuracy*100)"
      ],
      "execution_count": 27,
      "outputs": [
        {
          "output_type": "execute_result",
          "data": {
            "text/plain": [
              "0.9189596683000377"
            ]
          },
          "metadata": {
            "tags": []
          },
          "execution_count": 27
        }
      ]
    },
    {
      "cell_type": "code",
      "metadata": {
        "id": "ObMcsaKRvy11"
      },
      "source": [
        ""
      ],
      "execution_count": null,
      "outputs": []
    }
  ]
}