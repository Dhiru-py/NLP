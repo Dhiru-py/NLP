{
  "nbformat": 4,
  "nbformat_minor": 0,
  "metadata": {
    "colab": {
      "name": "Word_Embeddings.ipynb",
      "provenance": [],
      "collapsed_sections": [],
      "authorship_tag": "ABX9TyNKbN1gBMQpwIOPrvAJMB0W",
      "include_colab_link": true
    },
    "kernelspec": {
      "name": "python3",
      "display_name": "Python 3"
    }
  },
  "cells": [
    {
      "cell_type": "markdown",
      "metadata": {
        "id": "view-in-github",
        "colab_type": "text"
      },
      "source": [
        "<a href=\"https://colab.research.google.com/github/Dhiru-py/NLP/blob/master/Word_Embeddings.ipynb\" target=\"_parent\"><img src=\"https://colab.research.google.com/assets/colab-badge.svg\" alt=\"Open In Colab\"/></a>"
      ]
    },
    {
      "cell_type": "code",
      "metadata": {
        "id": "EHIaZHhMPRgZ",
        "colab_type": "code",
        "colab": {}
      },
      "source": [
        "#Dhirendra P. Singh\n",
        "# word2vec embedding model using pre-trained data\n",
        "import gensim\n",
        "from gensim.models import KeyedVectors "
      ],
      "execution_count": 0,
      "outputs": []
    },
    {
      "cell_type": "code",
      "metadata": {
        "id": "qYZ09121e4CO",
        "colab_type": "code",
        "outputId": "45a6cdec-d10e-408b-88a6-b219efced408",
        "colab": {
          "base_uri": "https://localhost:8080/",
          "height": 208
        }
      },
      "source": [
        "# Pre-trained Word2Vec\n",
        "!wget -P /root/input/ -c \"https://s3.amazonaws.com/dl4j-distribution/GoogleNews-vectors-negative300.bin.gz\""
      ],
      "execution_count": 3,
      "outputs": [
        {
          "output_type": "stream",
          "text": [
            "--2020-05-27 14:13:40--  https://s3.amazonaws.com/dl4j-distribution/GoogleNews-vectors-negative300.bin.gz\n",
            "Resolving s3.amazonaws.com (s3.amazonaws.com)... 52.217.10.230\n",
            "Connecting to s3.amazonaws.com (s3.amazonaws.com)|52.217.10.230|:443... connected.\n",
            "HTTP request sent, awaiting response... 200 OK\n",
            "Length: 1647046227 (1.5G) [application/x-gzip]\n",
            "Saving to: ‘/root/input/GoogleNews-vectors-negative300.bin.gz’\n",
            "\n",
            "GoogleNews-vectors- 100%[===================>]   1.53G  35.1MB/s    in 46s     \n",
            "\n",
            "2020-05-27 14:14:27 (34.3 MB/s) - ‘/root/input/GoogleNews-vectors-negative300.bin.gz’ saved [1647046227/1647046227]\n",
            "\n"
          ],
          "name": "stdout"
        }
      ]
    },
    {
      "cell_type": "code",
      "metadata": {
        "id": "Ym8M2wjkf2_e",
        "colab_type": "code",
        "outputId": "32f664f5-e7c9-4869-d2cc-feec25638147",
        "colab": {
          "base_uri": "https://localhost:8080/",
          "height": 72
        }
      },
      "source": [
        "EMBEDDING_FILE = '/root/input/GoogleNews-vectors-negative300.bin.gz' # from above\n",
        "word2vec = KeyedVectors.load_word2vec_format(EMBEDDING_FILE, binary=True)"
      ],
      "execution_count": 4,
      "outputs": [
        {
          "output_type": "stream",
          "text": [
            "/usr/local/lib/python3.6/dist-packages/smart_open/smart_open_lib.py:253: UserWarning: This function is deprecated, use smart_open.open instead. See the migration notes for details: https://github.com/RaRe-Technologies/smart_open/blob/master/README.rst#migrating-to-the-new-open-function\n",
            "  'See the migration notes for details: %s' % _MIGRATION_NOTES_URL\n"
          ],
          "name": "stderr"
        }
      ]
    },
    {
      "cell_type": "code",
      "metadata": {
        "id": "zy8IFHU6QL1O",
        "colab_type": "code",
        "outputId": "7fa78440-f56d-4795-9dbc-e9c1198a5b5b",
        "colab": {
          "base_uri": "https://localhost:8080/",
          "height": 89
        }
      },
      "source": [
        "result = word2vec.most_similar(positive=['woman', 'king'], negative=['man'], topn=1)\n",
        "print(result)"
      ],
      "execution_count": 5,
      "outputs": [
        {
          "output_type": "stream",
          "text": [
            "/usr/local/lib/python3.6/dist-packages/gensim/matutils.py:737: FutureWarning: Conversion of the second argument of issubdtype from `int` to `np.signedinteger` is deprecated. In future, it will be treated as `np.int64 == np.dtype(int).type`.\n",
            "  if np.issubdtype(vec.dtype, np.int):\n"
          ],
          "name": "stderr"
        },
        {
          "output_type": "stream",
          "text": [
            "[('queen', 0.7118192911148071)]\n"
          ],
          "name": "stdout"
        }
      ]
    },
    {
      "cell_type": "code",
      "metadata": {
        "id": "nEWOfRsla7YQ",
        "colab_type": "code",
        "outputId": "d72bd49e-8ce1-4973-b2f8-69d3e35973a7",
        "colab": {
          "base_uri": "https://localhost:8080/",
          "height": 245
        }
      },
      "source": [
        "word2vec.most_similar('great')"
      ],
      "execution_count": 6,
      "outputs": [
        {
          "output_type": "stream",
          "text": [
            "/usr/local/lib/python3.6/dist-packages/gensim/matutils.py:737: FutureWarning: Conversion of the second argument of issubdtype from `int` to `np.signedinteger` is deprecated. In future, it will be treated as `np.int64 == np.dtype(int).type`.\n",
            "  if np.issubdtype(vec.dtype, np.int):\n"
          ],
          "name": "stderr"
        },
        {
          "output_type": "execute_result",
          "data": {
            "text/plain": [
              "[('terrific', 0.7989331483840942),\n",
              " ('fantastic', 0.7935211658477783),\n",
              " ('tremendous', 0.7748856544494629),\n",
              " ('wonderful', 0.7647868394851685),\n",
              " ('good', 0.7291510105133057),\n",
              " ('incredible', 0.7032873630523682),\n",
              " ('marvelous', 0.6971102952957153),\n",
              " ('phenomenal', 0.6841565370559692),\n",
              " ('amazing', 0.6634128093719482),\n",
              " ('awesome', 0.6510506868362427)]"
            ]
          },
          "metadata": {
            "tags": []
          },
          "execution_count": 6
        }
      ]
    },
    {
      "cell_type": "markdown",
      "metadata": {
        "id": "LajGVb-DiNn2",
        "colab_type": "text"
      },
      "source": [
        "**Building word2vec model on own data**"
      ]
    },
    {
      "cell_type": "code",
      "metadata": {
        "id": "hpBER7ogiBK_",
        "colab_type": "code",
        "colab": {}
      },
      "source": [
        "from gensim.models import Word2Vec"
      ],
      "execution_count": 0,
      "outputs": []
    },
    {
      "cell_type": "code",
      "metadata": {
        "id": "pAkhHM5NVuXg",
        "colab_type": "code",
        "outputId": "19505d13-0f36-4201-f652-df15477f4a3d",
        "colab": {
          "base_uri": "https://localhost:8080/",
          "height": 54
        }
      },
      "source": [
        "raw_data = \"Swami Vivekananda was a great social reformer and a very inspiring personality of India. Vivekananda was called by the name Narendranath Datta. He was born in Kolkata on 12 January 1863 to Vishwanath Datta and Bhuvaneshwari Devi. His father was a successful attorney. He used to practice meditation even from his boyhood, and was associated with Brahmo Movement for some time. At the threshold of youth Narendra had to pass through a period of spiritual crisis when he was assailed by doubts about the existence of God. In November 1881, Narendra went to meet Sri Ramakrishna who was staying at the Kali Temple in Dakshineshwar. Narendra became a frequent visitor to Dakshineshwar and under the guidance of the Sri Ramakrishna, he made rapid strides on the spiritual path. After a few years two events took place which caused Narendra considerable distress, sudden death of his father in 1884 and Sri Ramakrishna in 1886. In the middle of 1890, Vivekananda left Baranagar Math and embarked on a long journey to explore and discover India. He went on a pilgrimage all over the country, studying the conditions of the people. Wherever he went, his magnetic personality created a great impression. He decided to attend the World Parliament of Religions in order to spread his message in the West which was schedule to be held in Chicago in 1893. On the eve of his departure, he adopted the name of Swami Vivekananda. His speeches at the World's Parliament of Religions held in September 1893 made him famous as an 'orator by divine right' and as a 'Messenger of Indian wisdom to the Western world'. For three years he spread the Vedanta philosophy and religion in America and England and then returned to India. He found the Ramakrishna Math and Mission on 1 May 1897. In 1898, he established Belur Math. In June 1899 he leaves India for second visit to the West. He returned to Belur Math in December 1900. The rest of his life was spent in India, inspiring and guiding people. He has dedicated his life to guiding others for pure and true spiritual path. His health deteriorated and Swami Vivekananda breathed his last on 4 July 1902 at the Belur Math, leaving behind an immortal legacy not just in the hearts of his contemporaries, but for all generations to come.\"\n",
        "def sentence_for_word2vec(x):\n",
        "  rawdata = x.split(\" \")\n",
        "  word_list = []\n",
        "  for word in rawdata:\n",
        "    word_list.append([word])\n",
        "  return (word_list)\n",
        "data = sentence_for_word2vec (raw_data)\n",
        "print (data)"
      ],
      "execution_count": 8,
      "outputs": [
        {
          "output_type": "stream",
          "text": [
            "[['Swami'], ['Vivekananda'], ['was'], ['a'], ['great'], ['social'], ['reformer'], ['and'], ['a'], ['very'], ['inspiring'], ['personality'], ['of'], ['India.'], ['Vivekananda'], ['was'], ['called'], ['by'], ['the'], ['name'], ['Narendranath'], ['Datta.'], ['He'], ['was'], ['born'], ['in'], ['Kolkata'], ['on'], ['12'], ['January'], ['1863'], ['to'], ['Vishwanath'], ['Datta'], ['and'], ['Bhuvaneshwari'], ['Devi.'], ['His'], ['father'], ['was'], ['a'], ['successful'], ['attorney.'], ['He'], ['used'], ['to'], ['practice'], ['meditation'], ['even'], ['from'], ['his'], ['boyhood,'], ['and'], ['was'], ['associated'], ['with'], ['Brahmo'], ['Movement'], ['for'], ['some'], ['time.'], ['At'], ['the'], ['threshold'], ['of'], ['youth'], ['Narendra'], ['had'], ['to'], ['pass'], ['through'], ['a'], ['period'], ['of'], ['spiritual'], ['crisis'], ['when'], ['he'], ['was'], ['assailed'], ['by'], ['doubts'], ['about'], ['the'], ['existence'], ['of'], ['God.'], ['In'], ['November'], ['1881,'], ['Narendra'], ['went'], ['to'], ['meet'], ['Sri'], ['Ramakrishna'], ['who'], ['was'], ['staying'], ['at'], ['the'], ['Kali'], ['Temple'], ['in'], ['Dakshineshwar.'], ['Narendra'], ['became'], ['a'], ['frequent'], ['visitor'], ['to'], ['Dakshineshwar'], ['and'], ['under'], ['the'], ['guidance'], ['of'], ['the'], ['Sri'], ['Ramakrishna,'], ['he'], ['made'], ['rapid'], ['strides'], ['on'], ['the'], ['spiritual'], ['path.'], ['After'], ['a'], ['few'], ['years'], ['two'], ['events'], ['took'], ['place'], ['which'], ['caused'], ['Narendra'], ['considerable'], ['distress,'], ['sudden'], ['death'], ['of'], ['his'], ['father'], ['in'], ['1884'], ['and'], ['Sri'], ['Ramakrishna'], ['in'], ['1886.'], ['In'], ['the'], ['middle'], ['of'], ['1890,'], ['Vivekananda'], ['left'], ['Baranagar'], ['Math'], ['and'], ['embarked'], ['on'], ['a'], ['long'], ['journey'], ['to'], ['explore'], ['and'], ['discover'], ['India.'], ['He'], ['went'], ['on'], ['a'], ['pilgrimage'], ['all'], ['over'], ['the'], ['country,'], ['studying'], ['the'], ['conditions'], ['of'], ['the'], ['people.'], ['Wherever'], ['he'], ['went,'], ['his'], ['magnetic'], ['personality'], ['created'], ['a'], ['great'], ['impression.'], ['He'], ['decided'], ['to'], ['attend'], ['the'], ['World'], ['Parliament'], ['of'], ['Religions'], ['in'], ['order'], ['to'], ['spread'], ['his'], ['message'], ['in'], ['the'], ['West'], ['which'], ['was'], ['schedule'], ['to'], ['be'], ['held'], ['in'], ['Chicago'], ['in'], ['1893.'], ['On'], ['the'], ['eve'], ['of'], ['his'], ['departure,'], ['he'], ['adopted'], ['the'], ['name'], ['of'], ['Swami'], ['Vivekananda.'], ['His'], ['speeches'], ['at'], ['the'], [\"World's\"], ['Parliament'], ['of'], ['Religions'], ['held'], ['in'], ['September'], ['1893'], ['made'], ['him'], ['famous'], ['as'], ['an'], [\"'orator\"], ['by'], ['divine'], [\"right'\"], ['and'], ['as'], ['a'], [\"'Messenger\"], ['of'], ['Indian'], ['wisdom'], ['to'], ['the'], ['Western'], [\"world'.\"], ['For'], ['three'], ['years'], ['he'], ['spread'], ['the'], ['Vedanta'], ['philosophy'], ['and'], ['religion'], ['in'], ['America'], ['and'], ['England'], ['and'], ['then'], ['returned'], ['to'], ['India.'], ['He'], ['found'], ['the'], ['Ramakrishna'], ['Math'], ['and'], ['Mission'], ['on'], ['1'], ['May'], ['1897.'], ['In'], ['1898,'], ['he'], ['established'], ['Belur'], ['Math.'], ['In'], ['June'], ['1899'], ['he'], ['leaves'], ['India'], ['for'], ['second'], ['visit'], ['to'], ['the'], ['West.'], ['He'], ['returned'], ['to'], ['Belur'], ['Math'], ['in'], ['December'], ['1900.'], ['The'], ['rest'], ['of'], ['his'], ['life'], ['was'], ['spent'], ['in'], ['India,'], ['inspiring'], ['and'], ['guiding'], ['people.'], ['He'], ['has'], ['dedicated'], ['his'], ['life'], ['to'], ['guiding'], ['others'], ['for'], ['pure'], ['and'], ['true'], ['spiritual'], ['path.'], ['His'], ['health'], ['deteriorated'], ['and'], ['Swami'], ['Vivekananda'], ['breathed'], ['his'], ['last'], ['on'], ['4'], ['July'], ['1902'], ['at'], ['the'], ['Belur'], ['Math,'], ['leaving'], ['behind'], ['an'], ['immortal'], ['legacy'], ['not'], ['just'], ['in'], ['the'], ['hearts'], ['of'], ['his'], ['contemporaries,'], ['but'], ['for'], ['all'], ['generations'], ['to'], ['come.']]\n"
          ],
          "name": "stdout"
        }
      ]
    },
    {
      "cell_type": "code",
      "metadata": {
        "id": "pYed0o4CV5Yg",
        "colab_type": "code",
        "outputId": "87a3bcd7-14a5-4f25-f6ef-c0e742a8022d",
        "colab": {
          "base_uri": "https://localhost:8080/",
          "height": 34
        }
      },
      "source": [
        "model = Word2Vec(data, min_count=1)\n",
        "print (model) "
      ],
      "execution_count": 10,
      "outputs": [
        {
          "output_type": "stream",
          "text": [
            "Word2Vec(vocab=220, size=100, alpha=0.025)\n"
          ],
          "name": "stdout"
        }
      ]
    },
    {
      "cell_type": "code",
      "metadata": {
        "id": "omoqs37ugMh_",
        "colab_type": "code",
        "colab": {
          "base_uri": "https://localhost:8080/",
          "height": 34
        },
        "outputId": "3d68480c-82eb-4c9d-b60f-cfda01836f7b"
      },
      "source": [
        "model.vector_size"
      ],
      "execution_count": 11,
      "outputs": [
        {
          "output_type": "execute_result",
          "data": {
            "text/plain": [
              "100"
            ]
          },
          "metadata": {
            "tags": []
          },
          "execution_count": 11
        }
      ]
    },
    {
      "cell_type": "code",
      "metadata": {
        "id": "Mgblyno9krcu",
        "colab_type": "code",
        "colab": {
          "base_uri": "https://localhost:8080/",
          "height": 34
        },
        "outputId": "9c87bc26-d565-4afb-bf26-583e691e7640"
      },
      "source": [
        "len(model.wv.vocab)"
      ],
      "execution_count": 12,
      "outputs": [
        {
          "output_type": "execute_result",
          "data": {
            "text/plain": [
              "220"
            ]
          },
          "metadata": {
            "tags": []
          },
          "execution_count": 12
        }
      ]
    },
    {
      "cell_type": "code",
      "metadata": {
        "id": "4tIGad8tkuRA",
        "colab_type": "code",
        "colab": {
          "base_uri": "https://localhost:8080/",
          "height": 54
        },
        "outputId": "218699b3-07a2-4bc2-ced6-837909048f6d"
      },
      "source": [
        "print (model.wv.vocab)"
      ],
      "execution_count": 14,
      "outputs": [
        {
          "output_type": "stream",
          "text": [
            "{'Swami': <gensim.models.keyedvectors.Vocab object at 0x7fdc5a5939b0>, 'Vivekananda': <gensim.models.keyedvectors.Vocab object at 0x7fdc5a593a20>, 'was': <gensim.models.keyedvectors.Vocab object at 0x7fdbffec5b00>, 'a': <gensim.models.keyedvectors.Vocab object at 0x7fdbffec5ba8>, 'great': <gensim.models.keyedvectors.Vocab object at 0x7fdbffec5be0>, 'social': <gensim.models.keyedvectors.Vocab object at 0x7fdbffec5c18>, 'reformer': <gensim.models.keyedvectors.Vocab object at 0x7fdbffec5c50>, 'and': <gensim.models.keyedvectors.Vocab object at 0x7fdbffec5c88>, 'very': <gensim.models.keyedvectors.Vocab object at 0x7fdbffec5cc0>, 'inspiring': <gensim.models.keyedvectors.Vocab object at 0x7fdbffec5cf8>, 'personality': <gensim.models.keyedvectors.Vocab object at 0x7fdbffec5d30>, 'of': <gensim.models.keyedvectors.Vocab object at 0x7fdbffec5d68>, 'India.': <gensim.models.keyedvectors.Vocab object at 0x7fdbffec5da0>, 'called': <gensim.models.keyedvectors.Vocab object at 0x7fdbffec5dd8>, 'by': <gensim.models.keyedvectors.Vocab object at 0x7fdbffec5e10>, 'the': <gensim.models.keyedvectors.Vocab object at 0x7fdbffec5e48>, 'name': <gensim.models.keyedvectors.Vocab object at 0x7fdbffec5e80>, 'Narendranath': <gensim.models.keyedvectors.Vocab object at 0x7fdbffec5eb8>, 'Datta.': <gensim.models.keyedvectors.Vocab object at 0x7fdbffec5ef0>, 'He': <gensim.models.keyedvectors.Vocab object at 0x7fdbffec5f28>, 'born': <gensim.models.keyedvectors.Vocab object at 0x7fdbffec5f60>, 'in': <gensim.models.keyedvectors.Vocab object at 0x7fdbffec5f98>, 'Kolkata': <gensim.models.keyedvectors.Vocab object at 0x7fdbffec5fd0>, 'on': <gensim.models.keyedvectors.Vocab object at 0x7fdbffe7e048>, '12': <gensim.models.keyedvectors.Vocab object at 0x7fdbffe7e080>, 'January': <gensim.models.keyedvectors.Vocab object at 0x7fdbffe7e0b8>, '1863': <gensim.models.keyedvectors.Vocab object at 0x7fdbffe7e0f0>, 'to': <gensim.models.keyedvectors.Vocab object at 0x7fdbffe7e128>, 'Vishwanath': <gensim.models.keyedvectors.Vocab object at 0x7fdbffe7e160>, 'Datta': <gensim.models.keyedvectors.Vocab object at 0x7fdbffe7e198>, 'Bhuvaneshwari': <gensim.models.keyedvectors.Vocab object at 0x7fdbffe7e1d0>, 'Devi.': <gensim.models.keyedvectors.Vocab object at 0x7fdbffe7e208>, 'His': <gensim.models.keyedvectors.Vocab object at 0x7fdbffe7e240>, 'father': <gensim.models.keyedvectors.Vocab object at 0x7fdbffe7e278>, 'successful': <gensim.models.keyedvectors.Vocab object at 0x7fdbffe7e2b0>, 'attorney.': <gensim.models.keyedvectors.Vocab object at 0x7fdbffe7e2e8>, 'used': <gensim.models.keyedvectors.Vocab object at 0x7fdbffe7e320>, 'practice': <gensim.models.keyedvectors.Vocab object at 0x7fdbffe7e358>, 'meditation': <gensim.models.keyedvectors.Vocab object at 0x7fdbffe7e390>, 'even': <gensim.models.keyedvectors.Vocab object at 0x7fdbffe7e3c8>, 'from': <gensim.models.keyedvectors.Vocab object at 0x7fdbffe7e400>, 'his': <gensim.models.keyedvectors.Vocab object at 0x7fdbffe7e438>, 'boyhood,': <gensim.models.keyedvectors.Vocab object at 0x7fdbffe7e470>, 'associated': <gensim.models.keyedvectors.Vocab object at 0x7fdbffe7e4a8>, 'with': <gensim.models.keyedvectors.Vocab object at 0x7fdbffe7e4e0>, 'Brahmo': <gensim.models.keyedvectors.Vocab object at 0x7fdbffe7e518>, 'Movement': <gensim.models.keyedvectors.Vocab object at 0x7fdbffe7e550>, 'for': <gensim.models.keyedvectors.Vocab object at 0x7fdbffe7e588>, 'some': <gensim.models.keyedvectors.Vocab object at 0x7fdbffe7e5c0>, 'time.': <gensim.models.keyedvectors.Vocab object at 0x7fdbffe7e5f8>, 'At': <gensim.models.keyedvectors.Vocab object at 0x7fdbffe7e630>, 'threshold': <gensim.models.keyedvectors.Vocab object at 0x7fdbffe7e668>, 'youth': <gensim.models.keyedvectors.Vocab object at 0x7fdbffe7e6a0>, 'Narendra': <gensim.models.keyedvectors.Vocab object at 0x7fdbffe7e6d8>, 'had': <gensim.models.keyedvectors.Vocab object at 0x7fdbffe7e710>, 'pass': <gensim.models.keyedvectors.Vocab object at 0x7fdbffe7e748>, 'through': <gensim.models.keyedvectors.Vocab object at 0x7fdbffe7e780>, 'period': <gensim.models.keyedvectors.Vocab object at 0x7fdbffe7e7b8>, 'spiritual': <gensim.models.keyedvectors.Vocab object at 0x7fdbffe7e7f0>, 'crisis': <gensim.models.keyedvectors.Vocab object at 0x7fdbffe7e828>, 'when': <gensim.models.keyedvectors.Vocab object at 0x7fdbffe7e860>, 'he': <gensim.models.keyedvectors.Vocab object at 0x7fdbffe7e898>, 'assailed': <gensim.models.keyedvectors.Vocab object at 0x7fdbffe7e8d0>, 'doubts': <gensim.models.keyedvectors.Vocab object at 0x7fdbffe7e908>, 'about': <gensim.models.keyedvectors.Vocab object at 0x7fdbffe7e940>, 'existence': <gensim.models.keyedvectors.Vocab object at 0x7fdbffe7e978>, 'God.': <gensim.models.keyedvectors.Vocab object at 0x7fdbffe7e9b0>, 'In': <gensim.models.keyedvectors.Vocab object at 0x7fdbffe7e9e8>, 'November': <gensim.models.keyedvectors.Vocab object at 0x7fdbffe7ea20>, '1881,': <gensim.models.keyedvectors.Vocab object at 0x7fdbffe7ea58>, 'went': <gensim.models.keyedvectors.Vocab object at 0x7fdbffe7ea90>, 'meet': <gensim.models.keyedvectors.Vocab object at 0x7fdbffe7eac8>, 'Sri': <gensim.models.keyedvectors.Vocab object at 0x7fdbffe7eb00>, 'Ramakrishna': <gensim.models.keyedvectors.Vocab object at 0x7fdbffe7eb38>, 'who': <gensim.models.keyedvectors.Vocab object at 0x7fdbffe7eb70>, 'staying': <gensim.models.keyedvectors.Vocab object at 0x7fdbffe7eba8>, 'at': <gensim.models.keyedvectors.Vocab object at 0x7fdbffe7ebe0>, 'Kali': <gensim.models.keyedvectors.Vocab object at 0x7fdbffe7ec18>, 'Temple': <gensim.models.keyedvectors.Vocab object at 0x7fdbffe7ec50>, 'Dakshineshwar.': <gensim.models.keyedvectors.Vocab object at 0x7fdbffe7ec88>, 'became': <gensim.models.keyedvectors.Vocab object at 0x7fdbffe7ecc0>, 'frequent': <gensim.models.keyedvectors.Vocab object at 0x7fdbffe7ecf8>, 'visitor': <gensim.models.keyedvectors.Vocab object at 0x7fdbffe7ed30>, 'Dakshineshwar': <gensim.models.keyedvectors.Vocab object at 0x7fdbffe7ed68>, 'under': <gensim.models.keyedvectors.Vocab object at 0x7fdbffe7eda0>, 'guidance': <gensim.models.keyedvectors.Vocab object at 0x7fdbffe7edd8>, 'Ramakrishna,': <gensim.models.keyedvectors.Vocab object at 0x7fdbffe7ee10>, 'made': <gensim.models.keyedvectors.Vocab object at 0x7fdbffe7ee48>, 'rapid': <gensim.models.keyedvectors.Vocab object at 0x7fdbffe7ee80>, 'strides': <gensim.models.keyedvectors.Vocab object at 0x7fdbffe7eeb8>, 'path.': <gensim.models.keyedvectors.Vocab object at 0x7fdbffe7eef0>, 'After': <gensim.models.keyedvectors.Vocab object at 0x7fdbffe7ef28>, 'few': <gensim.models.keyedvectors.Vocab object at 0x7fdbffe7ef60>, 'years': <gensim.models.keyedvectors.Vocab object at 0x7fdbffe7ef98>, 'two': <gensim.models.keyedvectors.Vocab object at 0x7fdbffe7efd0>, 'events': <gensim.models.keyedvectors.Vocab object at 0x7fdbffe82048>, 'took': <gensim.models.keyedvectors.Vocab object at 0x7fdbffe82080>, 'place': <gensim.models.keyedvectors.Vocab object at 0x7fdbffe820b8>, 'which': <gensim.models.keyedvectors.Vocab object at 0x7fdbffe820f0>, 'caused': <gensim.models.keyedvectors.Vocab object at 0x7fdbffe82128>, 'considerable': <gensim.models.keyedvectors.Vocab object at 0x7fdbffe82160>, 'distress,': <gensim.models.keyedvectors.Vocab object at 0x7fdbffe82198>, 'sudden': <gensim.models.keyedvectors.Vocab object at 0x7fdbffe821d0>, 'death': <gensim.models.keyedvectors.Vocab object at 0x7fdbffe82208>, '1884': <gensim.models.keyedvectors.Vocab object at 0x7fdbffe82240>, '1886.': <gensim.models.keyedvectors.Vocab object at 0x7fdbffe82278>, 'middle': <gensim.models.keyedvectors.Vocab object at 0x7fdbffe822b0>, '1890,': <gensim.models.keyedvectors.Vocab object at 0x7fdbffe822e8>, 'left': <gensim.models.keyedvectors.Vocab object at 0x7fdbffe82320>, 'Baranagar': <gensim.models.keyedvectors.Vocab object at 0x7fdbffe82358>, 'Math': <gensim.models.keyedvectors.Vocab object at 0x7fdbffe82390>, 'embarked': <gensim.models.keyedvectors.Vocab object at 0x7fdbffe823c8>, 'long': <gensim.models.keyedvectors.Vocab object at 0x7fdbffe82400>, 'journey': <gensim.models.keyedvectors.Vocab object at 0x7fdbffe82438>, 'explore': <gensim.models.keyedvectors.Vocab object at 0x7fdbffe82470>, 'discover': <gensim.models.keyedvectors.Vocab object at 0x7fdbffe824a8>, 'pilgrimage': <gensim.models.keyedvectors.Vocab object at 0x7fdbffe824e0>, 'all': <gensim.models.keyedvectors.Vocab object at 0x7fdbffe82518>, 'over': <gensim.models.keyedvectors.Vocab object at 0x7fdbffe82550>, 'country,': <gensim.models.keyedvectors.Vocab object at 0x7fdbffe82588>, 'studying': <gensim.models.keyedvectors.Vocab object at 0x7fdbffe825c0>, 'conditions': <gensim.models.keyedvectors.Vocab object at 0x7fdbffe825f8>, 'people.': <gensim.models.keyedvectors.Vocab object at 0x7fdbffe82630>, 'Wherever': <gensim.models.keyedvectors.Vocab object at 0x7fdbffe82668>, 'went,': <gensim.models.keyedvectors.Vocab object at 0x7fdbffe826a0>, 'magnetic': <gensim.models.keyedvectors.Vocab object at 0x7fdbffe826d8>, 'created': <gensim.models.keyedvectors.Vocab object at 0x7fdbffe82710>, 'impression.': <gensim.models.keyedvectors.Vocab object at 0x7fdbffe82748>, 'decided': <gensim.models.keyedvectors.Vocab object at 0x7fdbffe82780>, 'attend': <gensim.models.keyedvectors.Vocab object at 0x7fdbffe827b8>, 'World': <gensim.models.keyedvectors.Vocab object at 0x7fdbffe827f0>, 'Parliament': <gensim.models.keyedvectors.Vocab object at 0x7fdbffe82828>, 'Religions': <gensim.models.keyedvectors.Vocab object at 0x7fdbffe82860>, 'order': <gensim.models.keyedvectors.Vocab object at 0x7fdbffe82898>, 'spread': <gensim.models.keyedvectors.Vocab object at 0x7fdbffe828d0>, 'message': <gensim.models.keyedvectors.Vocab object at 0x7fdbffe82908>, 'West': <gensim.models.keyedvectors.Vocab object at 0x7fdbffe82940>, 'schedule': <gensim.models.keyedvectors.Vocab object at 0x7fdbffe82978>, 'be': <gensim.models.keyedvectors.Vocab object at 0x7fdbffe829b0>, 'held': <gensim.models.keyedvectors.Vocab object at 0x7fdbffe829e8>, 'Chicago': <gensim.models.keyedvectors.Vocab object at 0x7fdbffe82a20>, '1893.': <gensim.models.keyedvectors.Vocab object at 0x7fdbffe82a58>, 'On': <gensim.models.keyedvectors.Vocab object at 0x7fdbffe82a90>, 'eve': <gensim.models.keyedvectors.Vocab object at 0x7fdbffe82ac8>, 'departure,': <gensim.models.keyedvectors.Vocab object at 0x7fdbffe82b00>, 'adopted': <gensim.models.keyedvectors.Vocab object at 0x7fdbffe82b38>, 'Vivekananda.': <gensim.models.keyedvectors.Vocab object at 0x7fdbffe82b70>, 'speeches': <gensim.models.keyedvectors.Vocab object at 0x7fdbffe82ba8>, \"World's\": <gensim.models.keyedvectors.Vocab object at 0x7fdbffe82be0>, 'September': <gensim.models.keyedvectors.Vocab object at 0x7fdbffe82c18>, '1893': <gensim.models.keyedvectors.Vocab object at 0x7fdbffe82c50>, 'him': <gensim.models.keyedvectors.Vocab object at 0x7fdbffe82c88>, 'famous': <gensim.models.keyedvectors.Vocab object at 0x7fdbffe82cc0>, 'as': <gensim.models.keyedvectors.Vocab object at 0x7fdbffe82cf8>, 'an': <gensim.models.keyedvectors.Vocab object at 0x7fdbffe82d30>, \"'orator\": <gensim.models.keyedvectors.Vocab object at 0x7fdbffe82d68>, 'divine': <gensim.models.keyedvectors.Vocab object at 0x7fdbffe82da0>, \"right'\": <gensim.models.keyedvectors.Vocab object at 0x7fdbffe82dd8>, \"'Messenger\": <gensim.models.keyedvectors.Vocab object at 0x7fdbffe82e10>, 'Indian': <gensim.models.keyedvectors.Vocab object at 0x7fdbffe82e48>, 'wisdom': <gensim.models.keyedvectors.Vocab object at 0x7fdbffe82e80>, 'Western': <gensim.models.keyedvectors.Vocab object at 0x7fdbffe82eb8>, \"world'.\": <gensim.models.keyedvectors.Vocab object at 0x7fdbffe82ef0>, 'For': <gensim.models.keyedvectors.Vocab object at 0x7fdbffe82f28>, 'three': <gensim.models.keyedvectors.Vocab object at 0x7fdbffe82f60>, 'Vedanta': <gensim.models.keyedvectors.Vocab object at 0x7fdbffe82f98>, 'philosophy': <gensim.models.keyedvectors.Vocab object at 0x7fdbffe82fd0>, 'religion': <gensim.models.keyedvectors.Vocab object at 0x7fdbffe84048>, 'America': <gensim.models.keyedvectors.Vocab object at 0x7fdbffe84080>, 'England': <gensim.models.keyedvectors.Vocab object at 0x7fdbffe840b8>, 'then': <gensim.models.keyedvectors.Vocab object at 0x7fdbffe840f0>, 'returned': <gensim.models.keyedvectors.Vocab object at 0x7fdbffe84128>, 'found': <gensim.models.keyedvectors.Vocab object at 0x7fdbffe84160>, 'Mission': <gensim.models.keyedvectors.Vocab object at 0x7fdbffe84198>, '1': <gensim.models.keyedvectors.Vocab object at 0x7fdbffe841d0>, 'May': <gensim.models.keyedvectors.Vocab object at 0x7fdbffe84208>, '1897.': <gensim.models.keyedvectors.Vocab object at 0x7fdbffe84240>, '1898,': <gensim.models.keyedvectors.Vocab object at 0x7fdbffe84278>, 'established': <gensim.models.keyedvectors.Vocab object at 0x7fdbffe842b0>, 'Belur': <gensim.models.keyedvectors.Vocab object at 0x7fdbffe842e8>, 'Math.': <gensim.models.keyedvectors.Vocab object at 0x7fdbffe84320>, 'June': <gensim.models.keyedvectors.Vocab object at 0x7fdbffe84358>, '1899': <gensim.models.keyedvectors.Vocab object at 0x7fdbffe84390>, 'leaves': <gensim.models.keyedvectors.Vocab object at 0x7fdbffe843c8>, 'India': <gensim.models.keyedvectors.Vocab object at 0x7fdbffe84400>, 'second': <gensim.models.keyedvectors.Vocab object at 0x7fdbffe84438>, 'visit': <gensim.models.keyedvectors.Vocab object at 0x7fdbffe84470>, 'West.': <gensim.models.keyedvectors.Vocab object at 0x7fdbffe844a8>, 'December': <gensim.models.keyedvectors.Vocab object at 0x7fdbffe844e0>, '1900.': <gensim.models.keyedvectors.Vocab object at 0x7fdbffe84518>, 'The': <gensim.models.keyedvectors.Vocab object at 0x7fdbffe84550>, 'rest': <gensim.models.keyedvectors.Vocab object at 0x7fdbffe84588>, 'life': <gensim.models.keyedvectors.Vocab object at 0x7fdbffe845c0>, 'spent': <gensim.models.keyedvectors.Vocab object at 0x7fdbffe845f8>, 'India,': <gensim.models.keyedvectors.Vocab object at 0x7fdbffe84630>, 'guiding': <gensim.models.keyedvectors.Vocab object at 0x7fdbffe84668>, 'has': <gensim.models.keyedvectors.Vocab object at 0x7fdbffe846a0>, 'dedicated': <gensim.models.keyedvectors.Vocab object at 0x7fdbffe846d8>, 'others': <gensim.models.keyedvectors.Vocab object at 0x7fdbffe84710>, 'pure': <gensim.models.keyedvectors.Vocab object at 0x7fdbffe84748>, 'true': <gensim.models.keyedvectors.Vocab object at 0x7fdbffe84780>, 'health': <gensim.models.keyedvectors.Vocab object at 0x7fdbffe847b8>, 'deteriorated': <gensim.models.keyedvectors.Vocab object at 0x7fdbffe847f0>, 'breathed': <gensim.models.keyedvectors.Vocab object at 0x7fdbffe84828>, 'last': <gensim.models.keyedvectors.Vocab object at 0x7fdbffe84860>, '4': <gensim.models.keyedvectors.Vocab object at 0x7fdbffe84898>, 'July': <gensim.models.keyedvectors.Vocab object at 0x7fdbffe848d0>, '1902': <gensim.models.keyedvectors.Vocab object at 0x7fdbffe84908>, 'Math,': <gensim.models.keyedvectors.Vocab object at 0x7fdbffe84940>, 'leaving': <gensim.models.keyedvectors.Vocab object at 0x7fdbffe84978>, 'behind': <gensim.models.keyedvectors.Vocab object at 0x7fdbffe849b0>, 'immortal': <gensim.models.keyedvectors.Vocab object at 0x7fdbffe849e8>, 'legacy': <gensim.models.keyedvectors.Vocab object at 0x7fdbffe84a20>, 'not': <gensim.models.keyedvectors.Vocab object at 0x7fdbffe84a58>, 'just': <gensim.models.keyedvectors.Vocab object at 0x7fdbffe84a90>, 'hearts': <gensim.models.keyedvectors.Vocab object at 0x7fdbffe84ac8>, 'contemporaries,': <gensim.models.keyedvectors.Vocab object at 0x7fdbffe84b00>, 'but': <gensim.models.keyedvectors.Vocab object at 0x7fdbffe84b38>, 'generations': <gensim.models.keyedvectors.Vocab object at 0x7fdbffe84b70>, 'come.': <gensim.models.keyedvectors.Vocab object at 0x7fdbffe84ba8>}\n"
          ],
          "name": "stdout"
        }
      ]
    },
    {
      "cell_type": "code",
      "metadata": {
        "id": "qo6xOCR9k9nq",
        "colab_type": "code",
        "colab": {
          "base_uri": "https://localhost:8080/",
          "height": 280
        },
        "outputId": "348e9250-187a-4234-d016-0e2695857ee0"
      },
      "source": [
        "model.most_similar(\"India\")"
      ],
      "execution_count": 16,
      "outputs": [
        {
          "output_type": "stream",
          "text": [
            "/usr/local/lib/python3.6/dist-packages/ipykernel_launcher.py:1: DeprecationWarning: Call to deprecated `most_similar` (Method will be removed in 4.0.0, use self.wv.most_similar() instead).\n",
            "  \"\"\"Entry point for launching an IPython kernel.\n",
            "/usr/local/lib/python3.6/dist-packages/gensim/matutils.py:737: FutureWarning: Conversion of the second argument of issubdtype from `int` to `np.signedinteger` is deprecated. In future, it will be treated as `np.int64 == np.dtype(int).type`.\n",
            "  if np.issubdtype(vec.dtype, np.int):\n"
          ],
          "name": "stderr"
        },
        {
          "output_type": "execute_result",
          "data": {
            "text/plain": [
              "[('Baranagar', 0.3002853989601135),\n",
              " ('journey', 0.24967597424983978),\n",
              " ('Chicago', 0.23963291943073273),\n",
              " ('events', 0.2214263677597046),\n",
              " ('The', 0.21936653554439545),\n",
              " ('Indian', 0.19757287204265594),\n",
              " ('few', 0.19402477145195007),\n",
              " ('all', 0.1835881918668747),\n",
              " ('conditions', 0.17017599940299988),\n",
              " ('for', 0.159278005361557)]"
            ]
          },
          "metadata": {
            "tags": []
          },
          "execution_count": 16
        }
      ]
    },
    {
      "cell_type": "code",
      "metadata": {
        "id": "3rloz1g7mdJ1",
        "colab_type": "code",
        "colab": {}
      },
      "source": [
        ""
      ],
      "execution_count": 0,
      "outputs": []
    }
  ]
}