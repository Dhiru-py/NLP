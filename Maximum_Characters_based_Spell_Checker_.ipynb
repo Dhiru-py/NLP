{
  "nbformat": 4,
  "nbformat_minor": 0,
  "metadata": {
    "colab": {
      "name": "Maximum Characters based Spell_Checker .ipynb",
      "provenance": [],
      "collapsed_sections": [],
      "authorship_tag": "ABX9TyM0qKtU0Fx66kmyMSZajeAe",
      "include_colab_link": true
    },
    "kernelspec": {
      "name": "python3",
      "display_name": "Python 3"
    },
    "language_info": {
      "name": "python"
    }
  },
  "cells": [
    {
      "cell_type": "markdown",
      "metadata": {
        "id": "view-in-github",
        "colab_type": "text"
      },
      "source": [
        "<a href=\"https://colab.research.google.com/github/Dhiru-py/NLP/blob/master/Maximum_Characters_based_Spell_Checker_.ipynb\" target=\"_parent\"><img src=\"https://colab.research.google.com/assets/colab-badge.svg\" alt=\"Open In Colab\"/></a>"
      ]
    },
    {
      "cell_type": "code",
      "metadata": {
        "id": "8DCBoNiF-qbb"
      },
      "source": [
        "#========================================= Maximum Character Similarity-based Spell Checker========================== #\n",
        "# Importing required libraries.....\n",
        "import pandas as pd "
      ],
      "execution_count": 1,
      "outputs": []
    },
    {
      "cell_type": "code",
      "metadata": {
        "colab": {
          "base_uri": "https://localhost:8080/",
          "height": 161
        },
        "id": "tK9HkNNxxnKI",
        "outputId": "979bd93e-70e8-4ee3-8928-3902d568ea39"
      },
      "source": [
        "def chracter_similarity(string_):\n",
        "  bag_of_words = [\"apps\", \"application\", \"apple\", \"orange\", \"banana\", \"mango\"]\n",
        "  mapped_char = []\n",
        "  \n",
        "  for word in bag_of_words:\n",
        "    n = \"\"\n",
        "    word_int = dict ((j,i) for i,j in enumerate(word))\n",
        "    for char in string_:\n",
        "      if char in word_int:\n",
        "        n = n + char\n",
        "    mapped_char.append(len(n))\n",
        "\n",
        "  df = pd.DataFrame()\n",
        "\n",
        "  df[\"Predicted_words\"] = bag_of_words\n",
        "  df[\"Maximum_matched_chars\"] = mapped_char\n",
        "  return (((df[df.Maximum_matched_chars == df.Maximum_matched_chars.max()])))\n",
        "\n",
        "input_word = input(str(\" Enter your word\"))\n",
        "character_similarity_result = chracter_similarity(input_word)\n",
        "character_similarity_result  "
      ],
      "execution_count": 3,
      "outputs": [
        {
          "output_type": "stream",
          "text": [
            " Enter your wordapp\n"
          ],
          "name": "stdout"
        },
        {
          "output_type": "execute_result",
          "data": {
            "text/html": [
              "<div>\n",
              "<style scoped>\n",
              "    .dataframe tbody tr th:only-of-type {\n",
              "        vertical-align: middle;\n",
              "    }\n",
              "\n",
              "    .dataframe tbody tr th {\n",
              "        vertical-align: top;\n",
              "    }\n",
              "\n",
              "    .dataframe thead th {\n",
              "        text-align: right;\n",
              "    }\n",
              "</style>\n",
              "<table border=\"1\" class=\"dataframe\">\n",
              "  <thead>\n",
              "    <tr style=\"text-align: right;\">\n",
              "      <th></th>\n",
              "      <th>Predicted_words</th>\n",
              "      <th>Maximum_matched_chars</th>\n",
              "    </tr>\n",
              "  </thead>\n",
              "  <tbody>\n",
              "    <tr>\n",
              "      <th>0</th>\n",
              "      <td>apps</td>\n",
              "      <td>3</td>\n",
              "    </tr>\n",
              "    <tr>\n",
              "      <th>1</th>\n",
              "      <td>application</td>\n",
              "      <td>3</td>\n",
              "    </tr>\n",
              "    <tr>\n",
              "      <th>2</th>\n",
              "      <td>apple</td>\n",
              "      <td>3</td>\n",
              "    </tr>\n",
              "  </tbody>\n",
              "</table>\n",
              "</div>"
            ],
            "text/plain": [
              "  Predicted_words  Maximum_matched_chars\n",
              "0            apps                      3\n",
              "1     application                      3\n",
              "2           apple                      3"
            ]
          },
          "metadata": {
            "tags": []
          },
          "execution_count": 3
        }
      ]
    },
    {
      "cell_type": "code",
      "metadata": {
        "id": "EMVqgLIhyEAC"
      },
      "source": [
        ""
      ],
      "execution_count": 2,
      "outputs": []
    }
  ]
}